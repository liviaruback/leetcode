{
 "cells": [
  {
   "cell_type": "markdown",
   "metadata": {},
   "source": [
    "# Easy problems!! "
   ]
  },
  {
   "cell_type": "markdown",
   "metadata": {},
   "source": [
    "## 1 Reverse Words in a String III (id 557)\n",
    "\n",
    "Given a string, you need to reverse the order of characters in each word within a sentence while still preserving whitespace and initial word order.\n",
    "\n",
    "**Example 1:**\n",
    "\n",
    "Input: \"Let's take LeetCode contest\"<br>\n",
    "Output: \"s'teL ekat edoCteeL tsetnoc\"<br> <br>\n",
    "Note: In the string, each word is separated by single space and there will not be any extra space in the string."
   ]
  },
  {
   "cell_type": "code",
   "execution_count": 7,
   "metadata": {},
   "outputs": [
    {
     "data": {
      "text/plain": [
       "\"s'teL ekat edoCteeL tsetnoc\""
      ]
     },
     "execution_count": 7,
     "metadata": {},
     "output_type": "execute_result"
    }
   ],
   "source": [
    "s = \"Let's take LeetCode contest\"\n",
    "temp = s.split()\n",
    "result = \"\"\n",
    "for i in temp:\n",
    "    result += i[::-1] + \" \" \n",
    "result[:-1]"
   ]
  },
  {
   "cell_type": "markdown",
   "metadata": {},
   "source": [
    "The first method is really simple. We simply split up the given string based on whitespaces and put the individual words in an array of strings. Then, we reverse each individual string and concatenate the result. We return the result after removing the additional whitespaces at the end.<br>\n",
    "**Complexity analysis: **<br>\n",
    "time: O(n), where n is the lenght of the string <br>\n",
    "space: O(n)"
   ]
  },
  {
   "cell_type": "markdown",
   "metadata": {},
   "source": [
    "## A single line!!"
   ]
  },
  {
   "cell_type": "code",
   "execution_count": 11,
   "metadata": {},
   "outputs": [
    {
     "data": {
      "text/plain": [
       "\"s'teL ekat edoCteeL tsetnoc\""
      ]
     },
     "execution_count": 11,
     "metadata": {},
     "output_type": "execute_result"
    }
   ],
   "source": [
    "\" \".join(i[::-1] for i in s.split())"
   ]
  },
  {
   "cell_type": "markdown",
   "metadata": {},
   "source": [
    "## 2. Valid Palindrome (id 125)\n",
    "\n",
    "Given a string, determine if it is a palindrome, considering only alphanumeric characters and ignoring cases.\n",
    "\n",
    "Note: For the purpose of this problem, we define empty string as valid palindrome.\n",
    "\n",
    "**Example 1:**\n",
    "\n",
    "Input: \"A man, a plan, a canal: Panama\"\n",
    "Output: true\n",
    "\n",
    "**Example 2:**\n",
    "\n",
    "Input: \"race a car\"\n",
    "Output: false"
   ]
  },
  {
   "cell_type": "code",
   "execution_count": 45,
   "metadata": {},
   "outputs": [
    {
     "name": "stdout",
     "output_type": "stream",
     "text": [
      "True\n"
     ]
    }
   ],
   "source": [
    "s = \"A man, a plan, a canal: Panama\"\n",
    "\n",
    "temp = ''.join(i.lower() for i in s if i.isalnum())\n",
    "reversed = temp[::-1].lower()\n",
    "\n",
    "print(temp == reversed)"
   ]
  },
  {
   "cell_type": "markdown",
   "metadata": {},
   "source": [
    "# 3. Sort Array By Parity (id 905)\n",
    "\n",
    "Given an array A of non-negative integers, return an array consisting of all the even elements of A, followed by all the odd elements of A.\n",
    "\n",
    "You may return any answer array that satisfies this condition.\n",
    "\n",
    "**Example 1:**\n",
    "\n",
    "Input: [3,1,2,4] \n",
    "\n",
    "Output: [2,4,3,1] \n",
    "\n",
    "The outputs [4,2,3,1], [2,4,1,3], and [4,2,1,3] would also be accepted."
   ]
  },
  {
   "cell_type": "code",
   "execution_count": null,
   "metadata": {},
   "outputs": [],
   "source": [
    "A = [3,1,2,4]\n",
    "start = 0\n",
    "end = len(A)-1\n",
    "\n",
    "while start < end:\n",
    "    m, n = A[start], A[end]\n",
    "    if m%2!=0 and n%2==0: # m odd and n even\n",
    "        A[start], A[end] = n, m\n",
    "    elif m%2!=0: #m odd  \n",
    "        \n",
    "    if A[start]%2!=0:\n",
    "        if A[end]%2==0:\n",
    "            \n",
    "        A[end] = A[start]\n",
    "    elif\n",
    "       start +=1   \n",
    "    end -= 1"
   ]
  },
  {
   "cell_type": "markdown",
   "metadata": {},
   "source": [
    "# 4. Two Sum\n",
    "\n",
    "Given an array of integers, return indices of the two numbers such that they add up to a specific target.\n",
    "\n",
    "You may assume that each input would have exactly one solution, and you may not use the same element twice.\n",
    "\n",
    "**Example:**\n",
    "\n",
    "Given nums = [2, 7, 11, 15], target = 9,\n",
    "\n",
    "Because nums[0] + nums[1] = 2 + 7 = 9,\n",
    "return [0, 1].\n",
    "\n",
    "**The range(n) is of exclusive nature that is why it doesn't include the last number in the output**"
   ]
  },
  {
   "cell_type": "code",
   "execution_count": 1,
   "metadata": {},
   "outputs": [
    {
     "name": "stdout",
     "output_type": "stream",
     "text": [
      "1 2\n"
     ]
    }
   ],
   "source": [
    "# Solution O(n^2)\n",
    "nums = [3,2,4]\n",
    "target = 6\n",
    "\n",
    "for i in range(0, len(nums)-1):\n",
    "    for j in range(i+1, len(nums)):\n",
    "        sum = nums[i]+nums[j]\n",
    "        if sum==target:\n",
    "            print(i, j)         "
   ]
  },
  {
   "cell_type": "code",
   "execution_count": 3,
   "metadata": {},
   "outputs": [
    {
     "name": "stdout",
     "output_type": "stream",
     "text": [
      "[1, 2]\n"
     ]
    }
   ],
   "source": [
    "# Solution O(n) - with dictionaries\n",
    "nums = [3,2,4]\n",
    "target = 6\n",
    "\n",
    "dict = {}\n",
    "for i in range(len(nums)):\n",
    "    complement = target - nums[i]\n",
    "    if complement in dict:\n",
    "        print([dict[complement], i])\n",
    "    else:\n",
    "        dict[nums[i]] = i\n"
   ]
  },
  {
   "cell_type": "markdown",
   "metadata": {},
   "source": [
    "# 5. ToLowerCase \n",
    "https://leetcode.com/problems/to-lower-case/\n",
    "\n",
    "Implement function ToLowerCase() that has a string parameter str, and returns the same string in lowercase.\n",
    "\n",
    "**Example 1:**\n",
    "\n",
    "Input: \"Hello\"\n",
    "Output: \"hello\"\n",
    "\n",
    "Obs(mine): \"The ASCII codes for A-Z is 65-90 and those for a-z is that range plus 32.\""
   ]
  },
  {
   "cell_type": "code",
   "execution_count": 137,
   "metadata": {},
   "outputs": [
    {
     "name": "stdout",
     "output_type": "stream",
     "text": [
      "0.2843269809964113\n",
      "17.813756173010916\n"
     ]
    }
   ],
   "source": [
    "import timeit\n",
    "\n",
    "def toLower1():# Native method: 0.27s\n",
    "    str = 'sfaflsajflkanlkgjapojf;jda;jujg;akfk'\n",
    "    return str.lower()\n",
    "\n",
    "def toLower2():# 16.66s\n",
    "    # this method updates the ASCII codes for each upper case found\n",
    "    str = 'sfaflsajflkanlkgjapojf;jda;jujg;akfk'\n",
    "    \n",
    "    # the ord funcion return the ASCII code for a character\n",
    "    ascii_codes = [ord(x) for x in str]\n",
    "    for i in range(len(ascii_codes)):\n",
    "        if ascii_codes[i]>64 and ascii_codes[i]<91: # upper found\n",
    "            ascii_codes[i]+= 32\n",
    "\n",
    "    # the chr funcion return the charcter from its ASCII value\n",
    "    updated_ascii_codes = [chr(x) for x in ascii_codes]\n",
    "    return ''.join(updated_ascii_codes)\n",
    "\n",
    "a = timeit.timeit(stmt=toLower1,number=1000000)\n",
    "a2 = timeit.timeit(stmt=toLower2,number=1000000)\n",
    "print(a)\n",
    "print(a2)\n"
   ]
  },
  {
   "cell_type": "markdown",
   "metadata": {},
   "source": [
    "# 6. Squares of a Sorted Array (id 977)\n",
    "\n",
    "Given an array of integers A sorted in non-decreasing order, return an array of the squares of each number, also in sorted non-decreasing order.\n",
    "\n",
    "** Example 1:**\n",
    "\n",
    "Input: [-4,-1,0,3,10]\n",
    "Output: [0,1,9,16,100]\n",
    "\n",
    "** Example 2:**\n",
    "\n",
    "Input: [-7,-3,2,3,11]\n",
    "Output: [4,9,9,49,121]"
   ]
  },
  {
   "cell_type": "code",
   "execution_count": 121,
   "metadata": {},
   "outputs": [
    {
     "name": "stdout",
     "output_type": "stream",
     "text": [
      "16\n",
      "1\n",
      "0\n",
      "9\n",
      "100\n"
     ]
    },
    {
     "data": {
      "text/plain": [
       "[0, 1, 9, 16, 100]"
      ]
     },
     "execution_count": 121,
     "metadata": {},
     "output_type": "execute_result"
    }
   ],
   "source": [
    "A = [-4,-1,0,3,10]\n",
    "squared_array = []\n",
    "for i in A:\n",
    "    print(i*i)\n",
    "    squared_array.append(i*i)\n",
    "squared_array.sort()\n",
    "squared_array"
   ]
  },
  {
   "cell_type": "code",
   "execution_count": 123,
   "metadata": {},
   "outputs": [
    {
     "name": "stdout",
     "output_type": "stream",
     "text": [
      "[0, 1, 9, 16, 100]\n"
     ]
    }
   ],
   "source": [
    "# Using list comprehension\n",
    "A = [-4,-1,0,3,10]\n",
    "print (sorted([i**2 for i in A]))"
   ]
  },
  {
   "cell_type": "markdown",
   "metadata": {},
   "source": [
    "# 7. Unique Morse Code Words\n",
    "https://leetcode.com/problems/unique-morse-code-words/\n",
    "\n",
    "International Morse Code defines a standard encoding where each letter is mapped to a series of dots and dashes, as follows: \"a\" maps to \".-\", \"b\" maps to \"-...\", \"c\" maps to \"-.-.\", and so on.\n",
    "\n",
    "For convenience, the full table for the 26 letters of the English alphabet is given below:\n",
    "\n",
    "[\".-\",\"-...\",\"-.-.\",\"-..\",\".\",\"..-.\",\"--.\",\"....\",\"..\",\".---\",\"-.-\",\".-..\",\"--\",\"-.\",\"---\",\".--.\",\"--.-\",\".-.\",\"...\",\"-\",\"..-\",\"...-\",\".--\",\"-..-\",\"-.--\",\"--..\"]\n",
    "Now, given a list of words, each word can be written as a concatenation of the Morse code of each letter. For example, \"cba\" can be written as \"-.-..--...\", (which is the concatenation \"-.-.\" + \"-...\" + \".-\"). We'll call such a concatenation, the transformation of a word.\n",
    "\n",
    "Return the number of different transformations among all words we have.\n",
    "\n",
    "Example:\n",
    "Input: words = [\"gin\", \"zen\", \"gig\", \"msg\"]\n",
    "Output: 2\n",
    "Explanation: \n",
    "The transformation of each word is:\n",
    "\"gin\" -> \"--...-.\"\n",
    "\"zen\" -> \"--...-.\"\n",
    "\"gig\" -> \"--...--.\"\n",
    "\"msg\" -> \"--...--.\"\n",
    "\n",
    "There are 2 different transformations, \"--...-.\" and \"--...--.\".\n",
    "Note:\n",
    "\n",
    "The length of words will be at most 100.\n",
    "Each words[i] will have length in range [1, 12].\n",
    "words[i] will only consist of lowercase letters."
   ]
  },
  {
   "cell_type": "code",
   "execution_count": 186,
   "metadata": {},
   "outputs": [
    {
     "name": "stdout",
     "output_type": "stream",
     "text": [
      "13.61747795395786\n",
      "6.260346710972954\n"
     ]
    }
   ],
   "source": [
    "import timeit\n",
    "\n",
    "words = [\"gin\", \"zen\", \"gig\", \"msg\"]\n",
    "\n",
    "morse_codes = [\".-\",\"-...\",\"-.-.\",\"-..\",\".\",\"..-.\",\"--.\",\"....\",\"..\",\".---\",\"-.-\",\".-..\",\"--\",\"-.\",\"---\",\".--.\",\"--.-\",\".-.\",\"...\",\"-\",\"..-\",\"...-\",\".--\",\"-..-\",\"-.--\",\"--..\"]\n",
    "\n",
    "def sol1():\n",
    "    alphabet = []\n",
    "    for i in range(97, 123):\n",
    "        alphabet.append(chr(i))\n",
    "\n",
    "    dict_codes = dict(zip(alphabet, morse_codes))\n",
    "    unique = 0\n",
    "    list_transformations = []\n",
    "    for word in words:\n",
    "        morse = \"\"\n",
    "        for char in word:\n",
    "            morse += dict_codes[char]\n",
    "        if morse not in list_transformations:\n",
    "            unique += 1\n",
    "        list_transformations.append(morse)\n",
    "    return unique        \n",
    "    \n",
    "def sol2():    \n",
    "    unique_rep = set()\n",
    "\n",
    "    for word in words:\n",
    "        rep = \"\"\n",
    "        for c in word:\n",
    "            # this returns exactly the position where i is in the list\n",
    "            # ex: morse_codes['c'] = morse_codes[ord('c')-ord('a')]\n",
    "            # = morse_codes[99-97] = morse_codes[2]\n",
    "            rep += morse_codes[ord(c)-ord('a')] # very elegant solution\n",
    "        unique_rep.add(rep)\n",
    "    return len(unique_rep)\n",
    "    \n",
    "a = timeit.timeit(stmt=sol1,number=1000000)\n",
    "a2 = timeit.timeit(stmt=sol2,number=1000000)\n",
    "print(a)\n",
    "print(a2)       \n",
    "    \n"
   ]
  },
  {
   "cell_type": "markdown",
   "metadata": {},
   "source": [
    "# 8. Middle of the Linked List\n",
    "\n",
    "https://leetcode.com/problems/middle-of-the-linked-list/\n",
    "\n",
    "Given a non-empty, singly linked list with head node head, return a middle node of linked list.\n",
    "\n",
    "If there are two middle nodes, return the second middle node.\n",
    "\n",
    "**Example 1:**\n",
    "\n",
    "Input: [1,2,3,4,5]\n",
    "Output: Node 3 from this list (Serialization: [3,4,5])\n",
    "The returned node has value 3.  (The judge's serialization of this node is [3,4,5]).\n",
    "Note that we returned a ListNode object ans, such that:\n",
    "ans.val = 3, ans.next.val = 4, ans.next.next.val = 5, and ans.next.next.next = NULL.\n",
    "\n",
    "**Example 2:**\n",
    "\n",
    "Input: [1,2,3,4,5,6]\n",
    "Output: Node 4 from this list (Serialization: [4,5,6])\n",
    "Since the list has two middle nodes with values 3 and 4, we return the second one.\n",
    " \n",
    "\n",
    "**Note:**\n",
    "\n",
    "The number of nodes in the given list will be between 1 and 100."
   ]
  },
  {
   "cell_type": "code",
   "execution_count": 81,
   "metadata": {},
   "outputs": [
    {
     "name": "stdout",
     "output_type": "stream",
     "text": [
      "5\n",
      "4\n",
      "3\n",
      "2\n",
      "1\n",
      "1.5465518019991578\n",
      "1.6159690610002144\n"
     ]
    }
   ],
   "source": [
    "import timeit\n",
    "\n",
    "# Definition for singly-linked list.\n",
    "class ListNode(object):\n",
    "    def __init__(self, x):\n",
    "        self.val = x\n",
    "        self.next = None\n",
    "\n",
    "def middleLinkedList1():\n",
    "    currentNode = node1\n",
    "    lenList = 0\n",
    "    while currentNode is not None:\n",
    "        lenList += 1\n",
    "        currentNode = currentNode.next\n",
    "    if lenList%2==0:\n",
    "        middlePosition = lenList/2+1\n",
    "    else:\n",
    "        middlePosition = (lenList+1)/2\n",
    "    i = 1\n",
    "    currentNode = node1\n",
    "    while currentNode is not None:\n",
    "        if i == middlePosition:\n",
    "            return currentNode\n",
    "        currentNode = currentNode.next\n",
    "        i += 1\n",
    "        \n",
    "def middleLinkedList2():\n",
    "    currentNode = node1\n",
    "    lenList = 0\n",
    "    while currentNode is not None:\n",
    "        lenList += 1\n",
    "        currentNode = currentNode.next\n",
    "        \n",
    "    middle = lenList/2 if lenList%2==0 else lenList/2+1\n",
    "\n",
    "    i = 1\n",
    "    currentNode = node1\n",
    "    while currentNode is not None:\n",
    "        if i == middle:\n",
    "            return currentNode\n",
    "        currentNode = currentNode.next\n",
    "        i += 1\n",
    "\n",
    "#Input: [1,2,3,4,5]        \n",
    "node1 = ListNode(1)\n",
    "node2 = ListNode(2)\n",
    "node3 = ListNode(3)\n",
    "node4 = ListNode(4)\n",
    "node5 = ListNode(5)\n",
    "\n",
    "node1.next = node2\n",
    "node2.next = node3\n",
    "node3.next = node4\n",
    "node4.next = node5\n",
    "\n",
    "a = timeit.timeit(stmt=middleLinkedList1,number=1000000)\n",
    "a2 = timeit.timeit(stmt=middleLinkedList2,number=1000000)\n",
    "print(a)\n",
    "print(a2)   \n",
    "        "
   ]
  },
  {
   "cell_type": "markdown",
   "metadata": {},
   "source": [
    "## 9. Reverse Linked List\n",
    "\n",
    "Reverse a singly linked list.\n",
    "\n",
    "Example:\n",
    "\n",
    "Input: 1->2->3->4->5->NULL\n",
    "Output: 5->4->3->2->1->NULL\n",
    "Follow up:\n",
    "\n",
    "A linked list can be reversed either iteratively or recursively. Could you implement both?\n",
    "\n",
    "For each node, we need access to the current node and the previous node in the list. At every step:\n",
    "\n",
    "store the current node's next in temp\n",
    "set the current node's next to prev\n",
    "set prev to the current node\n",
    "set the current node to the initial next node, temp"
   ]
  },
  {
   "cell_type": "code",
   "execution_count": 82,
   "metadata": {},
   "outputs": [
    {
     "ename": "SyntaxError",
     "evalue": "invalid syntax (<ipython-input-82-576dcc26d23b>, line 7)",
     "output_type": "error",
     "traceback": [
      "\u001b[0;36m  File \u001b[0;32m\"<ipython-input-82-576dcc26d23b>\"\u001b[0;36m, line \u001b[0;32m7\u001b[0m\n\u001b[0;31m    while currentNode not None:\u001b[0m\n\u001b[0m                             ^\u001b[0m\n\u001b[0;31mSyntaxError\u001b[0m\u001b[0;31m:\u001b[0m invalid syntax\n"
     ]
    }
   ],
   "source": [
    "# How To Reverse A Singly Linked List | The Ultimate Explanation (Iteratively & Recursively) \n",
    "# https://www.youtube.com/watch?v=O0By4Zq0OFc\n",
    "\n",
    "previousNode = None\n",
    "currentNode = head\n",
    "\n",
    "while currentNode not None:\n",
    "    nextTemp = currentNode.next \n",
    "    currentNode.next = previousNode\n",
    "    previousNode = current\n",
    "    current = nextNode\n",
    "return previousNode  \n",
    "\n",
    "'''For each node, we need access to the current node and the previous node in the list. At every step:\n",
    "\n",
    "store the current node's next in temp\n",
    "set the current node's next to prev\n",
    "set prev to the current node\n",
    "set the current node to the initial next node, temp'''"
   ]
  },
  {
   "cell_type": "markdown",
   "metadata": {},
   "source": [
    "## 10. Robot Return to Origin\n",
    "\n",
    "There is a robot starting at position (0, 0), the origin, on a 2D plane. Given a sequence of its moves, judge if this robot ends up at (0, 0) after it completes its moves.\n",
    "\n",
    "The move sequence is represented by a string, and the character moves[i] represents its ith move. Valid moves are R (right), L (left), U (up), and D (down). If the robot returns to the origin after it finishes all of its moves, return true. Otherwise, return false.\n",
    "\n",
    "Note: The way that the robot is \"facing\" is irrelevant. \"R\" will always make the robot move to the right once, \"L\" will always make it move left, etc. Also, assume that the magnitude of the robot's movement is the same for each move.\n",
    "\n",
    "**Example 1:**\n",
    "\n",
    "Input: \"UD\"\n",
    "Output: true \n",
    "Explanation: The robot moves up once, and then down once. All moves have the same magnitude, so it ended up at the origin where it started. Therefore, we return true.\n",
    " \n",
    "**Example 2:**\n",
    "\n",
    "Input: \"LL\"\n",
    "Output: false\n",
    "Explanation: The robot moves left twice. It ends up two \"moves\" to the left of the origin. We return false because it is not at the origin at the end of its moves."
   ]
  },
  {
   "cell_type": "code",
   "execution_count": 17,
   "metadata": {},
   "outputs": [
    {
     "name": "stdout",
     "output_type": "stream",
     "text": [
      "True\n"
     ]
    }
   ],
   "source": [
    "moves = \"LURD\"\n",
    "l, r, d, u = moves.lower().count(\"l\"), moves.lower().count(\"r\"), moves.lower().count(\"d\"), moves.lower().count(\"u\")\n",
    "print(l==r and d==u)"
   ]
  },
  {
   "cell_type": "markdown",
   "metadata": {},
   "source": [
    "## 11.  Reverse String\n",
    "\n",
    "Write a function that reverses a string. The input string is given as an array of characters char[].\n",
    "\n",
    "Do not allocate extra space for another array, you must do this by modifying the input array in-place with O(1) extra memory.\n",
    "\n",
    "You may assume all the characters consist of printable ascii characters.\n",
    "\n",
    "**Example 1:**\n",
    "\n",
    "Input: [\"h\",\"e\",\"l\",\"l\",\"o\"]\n",
    "Output: [\"o\",\"l\",\"l\",\"e\",\"h\"]\n",
    "Example 2:\n",
    "\n",
    "Input: [\"H\",\"a\",\"n\",\"n\",\"a\",\"h\"]\n",
    "Output: [\"h\",\"a\",\"n\",\"n\",\"a\",\"H\"]"
   ]
  },
  {
   "cell_type": "code",
   "execution_count": 18,
   "metadata": {},
   "outputs": [
    {
     "data": {
      "text/plain": [
       "['e', 'd', 'c', 'b', 'a']"
      ]
     },
     "execution_count": 18,
     "metadata": {},
     "output_type": "execute_result"
    }
   ],
   "source": [
    "s = ['a','b','c','d','e']\n",
    "\n",
    "left_pointer = 0\n",
    "right_pointer = len(s)-1\n",
    "\n",
    "while left_pointer < right_pointer:\n",
    "    temp = s[left_pointer]\n",
    "    s[left_pointer] = s[right_pointer]\n",
    "    s[right_pointer] = temp\n",
    "    left_pointer += 1\n",
    "    right_pointer -= 1\n",
    "    \n",
    "s"
   ]
  },
  {
   "cell_type": "markdown",
   "metadata": {},
   "source": [
    "## 12. Delete Node in a Linked List\n",
    "\n",
    "Write a function to delete a node (except the tail) in a singly linked list, given only access to that node.\n",
    "\n",
    "Given linked list -- head = [4,5,1,9], which looks like following:\n",
    "\n",
    "**Example 1:**\n",
    "\n",
    "Input: head = [4,5,1,9], node = 5\n",
    "Output: [4,1,9]\n",
    "Explanation: You are given the second node with value 5, the linked list should become 4 -> 1 -> 9 after calling your function.\n",
    "\n",
    "**Example 2:**\n",
    "\n",
    "Input: head = [4,5,1,9], node = 1\n",
    "Output: [4,5,9]\n",
    "Explanation: You are given the third node with value 1, the linked list should become 4 -> 5 -> 9 after calling your function."
   ]
  },
  {
   "cell_type": "code",
   "execution_count": null,
   "metadata": {},
   "outputs": [],
   "source": [
    "def deleteNode(self, node):\n",
    "        \"\"\"\n",
    "    :type node: ListNode\n",
    "    :rtype: void Do not return anything, modify node in-place instead.\n",
    "    \"\"\"\n",
    "    if node.next is not None:\n",
    "        node.val = node.next.val\n",
    "        node.next = node.next.next"
   ]
  },
  {
   "cell_type": "markdown",
   "metadata": {},
   "source": [
    "## 13. Flipping an Image\n",
    "https://leetcode.com/problems/flipping-an-image/\n",
    "    \n",
    "Given a binary matrix A, we want to flip the image horizontally, then invert it, and return the resulting image.\n",
    "\n",
    "To flip an image horizontally means that each row of the image is reversed.  For example, flipping [1, 1, 0] horizontally results in [0, 1, 1].\n",
    "\n",
    "To invert an image means that each 0 is replaced by 1, and each 1 is replaced by 0. For example, inverting [0, 1, 1] results in [1, 0, 0].\n",
    "\n",
    "**Example 1:**\n",
    "\n",
    "Input: [[1,1,0],[1,0,1],[0,0,0]]\n",
    "Output: [[1,0,0],[0,1,0],[1,1,1]]\n",
    "Explanation: First reverse each row: [[0,1,1],[1,0,1],[0,0,0]].\n",
    "Then, invert the image: [[1,0,0],[0,1,0],[1,1,1]]\n",
    "\n",
    "**Example 2:**\n",
    "\n",
    "Input: [[1,1,0,0],[1,0,0,1],[0,1,1,1],[1,0,1,0]]\n",
    "Output: [[1,1,0,0],[0,1,1,0],[0,0,0,1],[1,0,1,0]]\n",
    "Explanation: First reverse each row: [[0,0,1,1],[1,0,0,1],[1,1,1,0],[0,1,0,1]].\n",
    "Then invert the image: [[1,1,0,0],[0,1,1,0],[0,0,0,1],[1,0,1,0]]"
   ]
  },
  {
   "cell_type": "code",
   "execution_count": 20,
   "metadata": {},
   "outputs": [
    {
     "name": "stdout",
     "output_type": "stream",
     "text": [
      "[[1, 0, 0], [0, 1, 0], [1, 1, 1]]\n"
     ]
    }
   ],
   "source": [
    "# In place solution\n",
    "A = [[1,1,0],[1,0,1],[0,0,0]]\n",
    "len_A = len(A)\n",
    "len_sub_A = len(A[0])\n",
    "for i in range(0, len_A):\n",
    "    A[i] = A[i][::-1] # first reverse each row\n",
    "    for j in range(0,len_sub_A):\n",
    "        if A[i][j]==0: # then, invert the image\n",
    "            A[i][j] = 1\n",
    "        else:\n",
    "            A[i][j] = 0\n",
    "print(A)"
   ]
  },
  {
   "cell_type": "markdown",
   "metadata": {},
   "source": [
    "## 14. Single Number\n",
    "\n",
    "Given a non-empty array of integers, every element appears twice except for one. Find that single one.\n",
    "\n",
    "Note:\n",
    "\n",
    "Your algorithm should have a linear runtime complexity. Could you implement it without using extra memory?\n",
    "\n",
    "**Example 1:**\n",
    "\n",
    "Input: [2,2,1]\n",
    "Output: 1\n",
    "\n",
    "**Example 2:**\n",
    "\n",
    "Input: [4,1,2,1,2]\n",
    "Output: 4"
   ]
  },
  {
   "cell_type": "code",
   "execution_count": 23,
   "metadata": {},
   "outputs": [
    {
     "name": "stdout",
     "output_type": "stream",
     "text": [
      "4\n"
     ]
    }
   ],
   "source": [
    "# Quadratic solution\n",
    "nums = [4,1,2,1,2]\n",
    "list_unique = []\n",
    "for i in nums:\n",
    "    if i not in list_unique:\n",
    "        list_unique.append(i) # first time that the element appear\n",
    "    else:\n",
    "        list_unique.remove(i) # second time that appears - remove it\n",
    "print(list_unique[0])"
   ]
  },
  {
   "cell_type": "code",
   "execution_count": 24,
   "metadata": {},
   "outputs": [
    {
     "name": "stdout",
     "output_type": "stream",
     "text": [
      "4\n"
     ]
    }
   ],
   "source": [
    "# Linear solution: Hash tables\n",
    "nums = [4,1,2,1,2]\n",
    "dict = {}\n",
    "for num in nums:\n",
    "    dict[num] = dict.get(num, 0)+1\n",
    "for key, val in dict.items():\n",
    "    if val == 1:\n",
    "        print(key)"
   ]
  },
  {
   "cell_type": "markdown",
   "metadata": {},
   "source": [
    "# 15. Move Zeroes\n",
    "\n",
    "https://leetcode.com/problems/move-zeroes/\n",
    "    \n",
    "Given an array nums, write a function to move all 0's to the end of it while maintaining the relative order of the non-zero elements.\n",
    "\n",
    "**Example:**\n",
    "\n",
    "Input: [0,1,0,3,12]\n",
    "Output: [1,3,12,0,0]\n",
    "Note:\n",
    "\n",
    "You must do this in-place without making a copy of the array.\n",
    "Minimize the total number of operations.    "
   ]
  },
  {
   "cell_type": "code",
   "execution_count": 41,
   "metadata": {},
   "outputs": [
    {
     "name": "stdout",
     "output_type": "stream",
     "text": [
      "1.91257562401006\n",
      "1.8216846390278079\n",
      "2.5601569860009477\n",
      "2.4176537599996664\n"
     ]
    }
   ],
   "source": [
    "import timeit\n",
    "\n",
    "# Solution brute force, in-place without making a copy of the array!\n",
    "def solution1(): # 2.09s\n",
    "    nums = [1,3,2,1,0,4,3,0,3]  \n",
    "    for i in nums:\n",
    "        if i==0:\n",
    "            nums.remove(i)\n",
    "            nums.append(0) \n",
    "            \n",
    "# Solution 2 elegante!\n",
    "def solution2(): # 1.91\n",
    "    nums = [1,3,2,1,0,4,3,0,3]  \n",
    "    #count the zeros\n",
    "    num_zeros = 0\n",
    "    for n in nums:\n",
    "        if n == 0:\n",
    "            num_zeros += 1\n",
    "    #make all non-zero items retain their original order\n",
    "    temp = [n for n in nums if n != 0]\n",
    "    \n",
    "    #Move all zeros to the end\n",
    "    temp += [0]* num_zeros\n",
    "    nums = temp\n",
    "    \n",
    "# Solution 3 : 2 pointers\n",
    "def solution3(): # 1.91\n",
    "    nums = [1,3,2,1,0,4,3,0,3]  \n",
    "    #count the non_zeros\n",
    "    non_zero = 0\n",
    "    \n",
    "    #\n",
    "    for i in range(len(nums)):\n",
    "        if nums[i] != 0:\n",
    "            nums[non_zero] = nums[i]\n",
    "            non_zero += 1\n",
    "            \n",
    "    #fulfill remaining array with 0's!\n",
    "    for i in range(non_zero,len(nums)):\n",
    "        nums[i] = 0\n",
    "        \n",
    "# Solution 4 : swap\n",
    "def solution4(): # 1.91\n",
    "    nums = [1,3,2,1,0,4,3,0,3]  \n",
    "    #count the non_zeros\n",
    "    non_zeros = current = 0\n",
    "    \n",
    "    for current in range(len(nums)):\n",
    "        if nums[current] != 0:\n",
    "            nums[non_zeros], nums[current] = nums[current],nums[non_zeros]\n",
    "            non_zeros += 1\n",
    "    \n",
    "a = timeit.timeit(stmt=solution1,number=1000000)\n",
    "a2 = timeit.timeit(stmt=solution2,number=1000000)\n",
    "a3 = timeit.timeit(stmt=solution3,number=1000000)\n",
    "a4 = timeit.timeit(stmt=solution4,number=1000000)\n",
    "print(a)\n",
    "print(a2) \n",
    "print(a3) \n",
    "print(a4) "
   ]
  },
  {
   "cell_type": "markdown",
   "metadata": {},
   "source": [
    "## 16. Merge Two Sorted Lists\n",
    "https://leetcode.com/problems/merge-two-sorted-lists/\n",
    "\n",
    "Merge two sorted linked lists and return it as a new list. The new list should be made by splicing together the nodes of the first two lists.\n",
    "\n",
    "**Example:**\n",
    "\n",
    "Input: 1->2->4, 1->3->4\n",
    "Output: 1->1->2->3->4->4"
   ]
  },
  {
   "cell_type": "code",
   "execution_count": 44,
   "metadata": {},
   "outputs": [],
   "source": [
    "# Definition for singly-linked list.\n",
    "class ListNode(object):\n",
    "    def __init__(self, x):\n",
    "        self.val = x\n",
    "        self.next = None\n",
    "\n",
    "node = guard_node = ListNode(0)\n",
    "        \n",
    "#while both linked lists are not empty\n",
    "while l1 and l2:\n",
    "    if l1.val < l2.val:\n",
    "        node.next = l1\n",
    "        l1 = l1.next\n",
    "    else:dic= {\"I\":1, 'V':5, 'X':10, 'L':50, 'C':100, 'D':500, 'M':1000}\n",
    "    \n",
    "        output = 0\n",
    "        for i in range(len(s)-1):\n",
    "            if dic[s[i]] < dic[s[i+1]]: \n",
    "                output -= dic[s[i]] # IV = -1\n",
    "            else:\n",
    "                output += dic[s[i]] # IV = +5\n",
    "\n",
    "        # always add the last letter. Except the last one, if one letter is less than its latter one, this letter is subtracted.        \n",
    "        output += dic[s[-1]]\n",
    "        return output\n",
    "        node.next = l2\n",
    "        l2 = l2.next\n",
    "    node = node.next\n",
    "\n",
    "# once we reach end of a linked list, append the other list\n",
    "node.next = l1 if l1 else l2\n",
    "\n",
    "return guard_node.next"
   ]
  },
  {
   "cell_type": "markdown",
   "metadata": {},
   "source": [
    "# 17. Valid Anagram\n",
    "\n",
    "https://leetcode.com/problems/valid-anagram/\n",
    "\n",
    "Given two strings s and t , write a function to determine if t is an anagram of s.\n",
    "\n",
    "Example 1:\n",
    "\n",
    "Input: s = \"anagram\", t = \"nagaram\"\n",
    "Output: true\n",
    "Example 2:\n",
    "\n",
    "Input: s = \"rat\", t = \"car\"\n",
    "Output: false\n",
    "Note:\n",
    "You may assume the string contains only lowercase alphabets.\n",
    "\n",
    "Follow up:\n",
    "What if the inputs contain unicode characters? How would you adapt your solution to such case?"
   ]
  },
  {
   "cell_type": "code",
   "execution_count": 52,
   "metadata": {},
   "outputs": [
    {
     "name": "stdout",
     "output_type": "stream",
     "text": [
      "3.780831355950795\n",
      "5.07083684502868\n",
      "2.1960364780388772\n"
     ]
    }
   ],
   "source": [
    "import timeit\n",
    "\n",
    "s = \"anagram\"\n",
    "t = \"nagaram\"\n",
    "\n",
    "def solution1(): # Two dictionaries\n",
    "    dict1 = {}\n",
    "    dict2 = {}\n",
    "    for i in s:\n",
    "        dict1[i] = dict1.get(i,0)+1\n",
    "\n",
    "    for i in t:\n",
    "        dict2[i] = dict2.get(i,0)+1\n",
    "\n",
    "    return dict1==dict2\n",
    "\n",
    "def solution2(): # Unicode characters - Leetcode best!\n",
    "    dic1, dic2 = [0]*26, [0]*26\n",
    "    for item in s:\n",
    "        dic1[ord(item)-ord('a')] += 1\n",
    "    for item in t:\n",
    "        dic2[ord(item)-ord('a')] += 1\n",
    "    return dic1 == dic2\n",
    "    \n",
    "def solution3():\n",
    "    return sorted(s) == sorted(t)\n",
    "\n",
    "a = timeit.timeit(stmt=solution1,number=1000000)\n",
    "a2 = timeit.timeit(stmt=solution2,number=1000000)\n",
    "a3 = timeit.timeit(stmt=solution3,number=1000000)\n",
    "print(a)\n",
    "print(a2)\n",
    "print(a3)\n"
   ]
  },
  {
   "cell_type": "markdown",
   "metadata": {},
   "source": [
    "# 18. Roman to Integer\n",
    "\n",
    "Roman numerals are represented by seven different symbols: I, V, X, L, C, D and M.\n",
    "\n",
    "Symbol       Value\n",
    "I             1\n",
    "V             5\n",
    "X             10\n",
    "L             50\n",
    "C             100\n",
    "D             500\n",
    "M             1000\n",
    "\n",
    "For example, two is written as II in Roman numeral, just two one's added together. Twelve is written as, XII, which is simply X + II. The number twenty seven is written as XXVII, which is XX + V + II.\n",
    "\n",
    "Roman numerals are usually written largest to smallest from left to right. However, the numeral for four is not IIII. Instead, the number four is written as IV. Because the one is before the five we subtract it making four. The same principle applies to the number nine, which is written as IX. There are six instances where subtraction is used:\n",
    "\n",
    "I can be placed before V (5) and X (10) to make 4 and 9. \n",
    "X can be placed before L (50) and C (100) to make 40 and 90. \n",
    "C can be placed before D (500) and M (1000) to make 400 and 900.\n",
    "Given a roman numeral, convert it to an integer. Input is guaranteed to be within the range from 1 to 3999.\n",
    "\n",
    "**Example 1:**\n",
    "\n",
    "Input: \"III\"\n",
    "Output: 3\n",
    "Example 2:\n",
    "\n",
    "Input: \"IV\"\n",
    "Output: 4\n",
    "Example 3:\n",
    "\n",
    "Input: \"IX\"\n",
    "Output: 9\n",
    "Example 4:\n",
    "\n",
    "Input: \"LVIII\"\n",
    "Output: 58\n",
    "Explanation: L = 50, V= 5, III = 3.\n",
    "Example 5:\n",
    "\n",
    "Input: \"MCMXCIV\"\n",
    "Output: 1994\n",
    "Explanation: M = 1000, CM = 900, XC = 90 and IV = 4."
   ]
  },
  {
   "cell_type": "code",
   "execution_count": 57,
   "metadata": {},
   "outputs": [
    {
     "name": "stdout",
     "output_type": "stream",
     "text": [
      "2.6860105890082195\n",
      "3.133386921021156\n"
     ]
    },
    {
     "data": {
      "text/plain": [
       "'At first, you convert every character to integer.\\nThen, you judge if the former integer is lower than the latter (num[s[i]]<num[s[i + 1]]).\\nIn roman numerals, symbols/characters are placed from left to right in order of value, starting with the largest. While the value of the left symbol is less than the right, it means the left one should be subtracted.\\nSo if the former integer integer is lower than the latter, it should be subtracted from N. If not, Add it to N.\\n'"
      ]
     },
     "execution_count": 57,
     "metadata": {},
     "output_type": "execute_result"
    }
   ],
   "source": [
    "def solution1(): #2.68\n",
    "    s='MCMXCIV'\n",
    "    dic_reverse = {'IV':4, 'IX':9, 'XL':40, 'XC':90, 'CD':400, 'CM':900}\n",
    "    dic= {\"I\":1, 'V':5, 'X':10, 'L':50, 'C':100, 'D':500, 'M':1000}\n",
    "    \n",
    "    output = 0\n",
    "    for i in dic_reverse:\n",
    "        if i in s:\n",
    "            output += dic_reverse[i]   \n",
    "            s = s.replace(i, \"\")\n",
    "\n",
    "    for i in s:\n",
    "        output += dic.get(i, 0) \n",
    "\n",
    "    return output\n",
    "\n",
    "def solution2(): # 3.13 - More elegant solution\n",
    "    s='MCMXCIV'\n",
    "    dic= {\"I\":1, 'V':5, 'X':10, 'L':50, 'C':100, 'D':500, 'M':1000}\n",
    "    \n",
    "    output = 0\n",
    "    for i in range(len(s)-1):\n",
    "        if dic[s[i]] < dic[s[i+1]]: \n",
    "            output -= dic[s[i]] # IV = -1\n",
    "        else:\n",
    "            output += dic[s[i]] # IV = +5\n",
    "\n",
    "    # always add the last letter. Except the last one, if one letter is less than its latter one, this letter is subtracted.        \n",
    "    output += dic[s[-1]]\n",
    "    return output\n",
    "\n",
    "a = timeit.timeit(stmt=solution1,number=1000000)\n",
    "a2 = timeit.timeit(stmt=solution2,number=1000000)\n",
    "print(a)\n",
    "print(a2)\n",
    "\n",
    "'''At first, you convert every character to integer.\n",
    "Then, you judge if the former integer is lower than the latter (num[s[i]]<num[s[i + 1]]).\n",
    "In roman numerals, symbols/characters are placed from left to right in order of value, starting with the largest. While the value of the left symbol is less than the right, it means the left one should be subtracted.\n",
    "So if the former integer integer is lower than the latter, it should be subtracted from N. If not, Add it to N.\n",
    "'''\n",
    "\n"
   ]
  },
  {
   "cell_type": "markdown",
   "metadata": {},
   "source": [
    "# 19. Linked List Cycle\n",
    "\n",
    "https://leetcode.com/problems/linked-list-cycle/\n",
    "\n",
    "Given a linked list, determine if it has a cycle in it.\n",
    "\n",
    "To represent a cycle in the given linked list, we use an integer pos which represents the position (0-indexed) in the linked list where tail connects to. If pos is -1, then there is no cycle in the linked list."
   ]
  },
  {
   "cell_type": "code",
   "execution_count": null,
   "metadata": {},
   "outputs": [],
   "source": [
    "slow = head\n",
    "fast = head\n",
    "while fast and fast.next:\n",
    "    fast = fast.next.next\n",
    "    slow = slow.next\n",
    "    if fast ==slow:\n",
    "        return True\n",
    "return False\n",
    "\n",
    "'''The fast pointer ( hare ) traverses the linked list 2 nodes at a time while the slow pointer ( tortoise ) traverses the linked list 1 node at a time. If these pointers ever point to the same node in the linked, there is a cycle in the linked list'''"
   ]
  },
  {
   "cell_type": "markdown",
   "metadata": {},
   "source": [
    "# 20. Contains Duplicate\n",
    "\n",
    "https://leetcode.com/problems/contains-duplicate/\n",
    "\n",
    "Given an array of integers, find if the array contains any duplicates.\n",
    "\n",
    "Your function should return true if any value appears at least twice in the array, and it should return false if every element is distinct.\n",
    "\n",
    "**Example 1:**\n",
    "\n",
    "Input: [1,2,3,1]\n",
    "Output: true\n",
    "\n",
    "**Example 2:**\n",
    "\n",
    "Input: [1,2,3,4]\n",
    "Output: false\n",
    "\n",
    "**Example 3:**\n",
    "\n",
    "Input: [1,1,1,3,3,4,3,2,4,2]\n",
    "Output: true"
   ]
  },
  {
   "cell_type": "code",
   "execution_count": 59,
   "metadata": {},
   "outputs": [
    {
     "name": "stdout",
     "output_type": "stream",
     "text": [
      "True\n"
     ]
    }
   ],
   "source": [
    "nums = [1,2,3,1]\n",
    "\n",
    "def solution1():\n",
    "    dict = {}\n",
    "    result = False\n",
    "    for i in nums:\n",
    "        dict[i] = dict.get(i, 0)+1\n",
    "        if dict[i]>1:\n",
    "            print(True)   \n",
    "        \n",
    "def solution2(): # Faster in leetcode\n",
    "    return not len(nums) == len(set(nums))\n",
    "        "
   ]
  },
  {
   "cell_type": "markdown",
   "metadata": {},
   "source": [
    "# 21. Majority Element\n",
    "\n",
    "https://leetcode.com/problems/majority-element/\n",
    "\n",
    "Given an array of size n, find the majority element. The majority element is the element that appears more than ⌊ n/2 ⌋ times.\n",
    "\n",
    "You may assume that the array is non-empty and the majority element always exist in the array.\n",
    "\n",
    "**Example 1:**\n",
    "\n",
    "Input: [3,2,3]\n",
    "Output: 3\n",
    "\n",
    "**Example 2:**\n",
    "\n",
    "Input: [2,2,1,1,1,2,2]\n",
    "Output: 2"
   ]
  },
  {
   "cell_type": "code",
   "execution_count": 63,
   "metadata": {},
   "outputs": [
    {
     "name": "stdout",
     "output_type": "stream",
     "text": [
      "1.1785773730371147 0.5855639610090293\n"
     ]
    }
   ],
   "source": [
    "def solution1(): # one pass + dictionary\n",
    "    dic = {}\n",
    "    middle = len(nums)/2\n",
    "    for num in nums:\n",
    "        if num not in dic: # first time an elem. appear\n",
    "            dic[num] = 1\n",
    "        if dic[num] > middle:\n",
    "            return num\n",
    "        else:\n",
    "            dic[num] += 1\n",
    "        \n",
    "def solution2(): # sorting and taking the middle one\n",
    "    nums.sort()\n",
    "    return nums[len(nums)//2]\n",
    "\n",
    "nums = [3,2,3]    \n",
    "a = timeit.timeit(stmt=solution1,number=1000000)\n",
    "a2 = timeit.timeit(stmt=solution2,number=1000000)\n",
    "print(a, a2)"
   ]
  },
  {
   "cell_type": "markdown",
   "metadata": {},
   "source": [
    "# 22. First Unique Character in a String\n",
    "\n",
    "https://leetcode.com/problems/first-unique-character-in-a-string/\n",
    "\n",
    "Given a string, find the first non-repeating character in it and return it's index. If it doesn't exist, return -1.\n",
    "\n",
    "Examples:\n",
    "\n",
    "s = \"leetcode\"\n",
    "return 0.\n",
    "\n",
    "s = \"loveleetcode\",\n",
    "return 2.\n",
    "\n",
    "Note: You may assume the string contain only lowercase letters."
   ]
  },
  {
   "cell_type": "code",
   "execution_count": null,
   "metadata": {},
   "outputs": [],
   "source": [
    "def solution1():\n",
    "    dic = {}\n",
    "    for i in s:\n",
    "        if i not in dic:\n",
    "            dic[i] = 1\n",
    "        else:\n",
    "            dic[i] += 1\n",
    "    \n",
    "    for i in range(len(s)):\n",
    "        if dic[s[i]] == 1:\n",
    "            return i\n",
    "\n",
    "    return -1      \n"
   ]
  },
  {
   "cell_type": "markdown",
   "metadata": {},
   "source": [
    "# 23. Valid Parentheses\n",
    "\n",
    "https://leetcode.com/problems/valid-parentheses/\n",
    "\n",
    "Given a string containing just the characters '(', ')', '{', '}', '[' and ']', determine if the input string is valid.\n",
    "\n",
    "An input string is valid if:\n",
    "\n",
    "Open brackets must be closed by the same type of brackets.\n",
    "Open brackets must be closed in the correct order.\n",
    "Note that an empty string is also considered valid.\n",
    "\n",
    "**Example 1:**\n",
    "\n",
    "Input: \"()\"\n",
    "Output: true\n",
    "\n",
    "**Example 2:**\n",
    "\n",
    "Input: \"()[]{}\"\n",
    "Output: true\n",
    "\n",
    "**Example 3:**\n",
    "\n",
    "Input: \"(]\"\n",
    "Output: false\n",
    "\n",
    "**Example 4:**\n",
    "\n",
    "Input: \"([)]\"\n",
    "Output: false\n",
    "\n",
    "**Example 5:**\n",
    "\n",
    "Input: \"{[]}\"\n",
    "Output: true"
   ]
  },
  {
   "cell_type": "code",
   "execution_count": 65,
   "metadata": {},
   "outputs": [
    {
     "name": "stdout",
     "output_type": "stream",
     "text": [
      "True\n"
     ]
    }
   ],
   "source": [
    "s=\"{[]}\"\n",
    "\n",
    "stack = []\n",
    "dic = {'(':')','[':']','{':'}'}\n",
    "\n",
    "for c in s:\n",
    "    if c in dic.keys(): # found one of them\n",
    "        stack.append(dic[c])\n",
    "    else:\n",
    "        if not stack: # contains strings other than (){}[]\n",
    "            print(False)\n",
    "\n",
    "        if c == stack[-1]: # just found the closing one\n",
    "            stack.pop()\n",
    "        else:\n",
    "            print(False)\n",
    "\n",
    "print(not stack)"
   ]
  },
  {
   "cell_type": "markdown",
   "metadata": {},
   "source": [
    "# 24. Find All Numbers Disappeared in an Array\n",
    "\n",
    "https://leetcode.com/problems/find-all-numbers-disappeared-in-an-array\n",
    "\n",
    "Given an array of integers where 1 ≤ a[i] ≤ n (n = size of array), some elements appear twice and others appear once.\n",
    "\n",
    "Find all the elements of [1, n] inclusive that do not appear in this array.\n",
    "\n",
    "Could you do it without extra space and in O(n) runtime? You may assume the returned list does not count as extra space.\n",
    "\n",
    "**Example:**\n",
    "\n",
    "Input:\n",
    "[4,3,2,7,8,2,3,1]\n",
    "\n",
    "Output:\n",
    "[5,6]"
   ]
  },
  {
   "cell_type": "code",
   "execution_count": 66,
   "metadata": {},
   "outputs": [
    {
     "name": "stdout",
     "output_type": "stream",
     "text": [
      "[5, 6]\n",
      "[5, 6]\n"
     ]
    }
   ],
   "source": [
    "def solution1(nums): # \n",
    "    marked = set(nums)\n",
    "\n",
    "    result = []\n",
    "    for i in range(1, len(nums)+1):\n",
    "        if i not in marked:\n",
    "            result.append(i)\n",
    "    return result\n",
    "\n",
    "def solution2(nums): # more concise solution \n",
    "    \n",
    "    marked = set(nums)\n",
    "    return [i for i in range(1, len(nums)+1) if i not in marked]\n",
    "      \n",
    "nums = [4,3,2,7,8,2,3,1]    \n",
    "print(solution1(nums))    \n",
    "print(solution2(nums)) \n",
    "    "
   ]
  },
  {
   "cell_type": "markdown",
   "metadata": {},
   "source": [
    "# 25. Excel Sheet Column Number\n",
    "https://leetcode.com/problems/excel-sheet-column-number/\n",
    "\n",
    "Given a column title as appear in an Excel sheet, return its corresponding column number.\n",
    "\n",
    "For example:\n",
    "\n",
    "    A -> 1\n",
    "    B -> 2\n",
    "    C -> 3\n",
    "    ...\n",
    "    Z -> 26\n",
    "    AA -> 27\n",
    "    AB -> 28 \n",
    "    ...\n",
    "\n",
    "**Example 1:**\n",
    "\n",
    "Input: \"A\"\n",
    "Output: 1\n",
    "\n",
    "**Example 2:**\n",
    "\n",
    "Input: \"AB\"\n",
    "Output: 28\n",
    "\n",
    "**Example 3:**\n",
    "\n",
    "Input: \"ZY\"\n",
    "Output: 701"
   ]
  },
  {
   "cell_type": "code",
   "execution_count": 68,
   "metadata": {},
   "outputs": [
    {
     "name": "stdout",
     "output_type": "stream",
     "text": [
      "701\n"
     ]
    }
   ],
   "source": [
    "s = 'ZY'\n",
    "res = 0\n",
    "for i in range(len(s)):\n",
    "    res = res * 26 + ord(s[i]) - ord('A') + 1\n",
    "print(res)"
   ]
  },
  {
   "cell_type": "markdown",
   "metadata": {},
   "source": [
    "# 26 Jewels and Stones\n",
    "https://leetcode.com/problems/jewels-and-stones/\n",
    "    \n",
    "You're given strings J representing the types of stones that are jewels, and S representing the stones you have.  Each character in S is a type of stone you have.  You want to know how many of the stones you have are also jewels.\n",
    "\n",
    "The letters in J are guaranteed distinct, and all characters in J and S are letters. Letters are case sensitive, so \"a\" is considered a different type of stone from \"A\".\n",
    "\n",
    "Example 1:\n",
    "\n",
    "Input: J = \"aA\", S = \"aAAbbbb\"\n",
    "Output: 3\n",
    "Example 2:\n",
    "\n",
    "Input: J = \"z\", S = \"ZZ\"\n",
    "Output: 0\n",
    "Note:\n",
    "\n",
    "S and J will consist of letters and have length at most 50.\n",
    "The characters in J are distinct.    "
   ]
  },
  {
   "cell_type": "code",
   "execution_count": null,
   "metadata": {},
   "outputs": [],
   "source": [
    "# Brute force solution\n",
    "result = 0\n",
    "for s in S:\n",
    "    if s in J:\n",
    "        result += 1\n",
    "return result\n",
    "\n",
    "# Really fast solution in leetcode\n",
    "return sum(s in J for s in S)\n",
    "# \"i in J\" returns True or False, so \"[i in J for i in S]\"\n",
    "# actually returns a list of Boolean. \n",
    "# But sum([True, False]) treats True as 1 and False as 0.\n",
    "        "
   ]
  },
  {
   "cell_type": "markdown",
   "metadata": {},
   "source": [
    "## 27. N-Repeated Element in Size 2N Array\n",
    "\n",
    "https://leetcode.com/problems/n-repeated-element-in-size-2n-array/\n",
    "    \n",
    "In a array A of size 2N, there are N+1 unique elements, and exactly one of these elements is repeated N times.\n",
    "\n",
    "Return the element repeated N times.\n",
    "\n",
    "Example 1:\n",
    "\n",
    "Input: [1,2,3,3]\n",
    "Output: 3\n",
    "Example 2:\n",
    "\n",
    "Input: [2,1,2,5,3,2]\n",
    "Output: 2\n",
    "Example 3:\n",
    "\n",
    "Input: [5,1,5,2,5,3,5,4]\n",
    "Output: 5"
   ]
  },
  {
   "cell_type": "code",
   "execution_count": 72,
   "metadata": {},
   "outputs": [
    {
     "name": "stdout",
     "output_type": "stream",
     "text": [
      "3\n"
     ]
    }
   ],
   "source": [
    "# Solution 1: \n",
    "A = [1,2,3,3]\n",
    "dic = {}\n",
    "for i in A:\n",
    "    if i not in dic:\n",
    "        dic[i] = 1\n",
    "    else:\n",
    "        dic[i] += 1\n",
    "\n",
    "for key,value in dic.items():\n",
    "    if value == len(A)/2:\n",
    "        print(key) \n",
    "        \n",
    "#Solution 2: \n",
    "A = [1,2,3,3]\n",
    "dic = {}\n",
    "for i in A:\n",
    "    if i not in dic:\n",
    "        dic[i] = 1\n",
    "    else:\n",
    "        dic[i] += 1\n",
    "\n",
    "    if dic[i] > 1: # the element with a count larger than 1 must be the answer\n",
    "        print(i)\n",
    "        \n",
    "#Solution 3:\n",
    "dic = {}\n",
    "for i in A:\n",
    "    if i not in dic:\n",
    "        dic[i] = 1\n",
    "    else:\n",
    "        return i"
   ]
  },
  {
   "cell_type": "markdown",
   "metadata": {},
   "source": [
    "## 28. DI String Match\n",
    "\n",
    "https://leetcode.com/problems/di-string-match/\n",
    "\n",
    "Given a string S that only contains \"I\" (increase) or \"D\" (decrease), let N = S.length.\n",
    "\n",
    "Return any permutation A of [0, 1, ..., N] such that for all i = 0, ..., N-1:\n",
    "\n",
    "If S[i] == \"I\", then A[i] < A[i+1]\n",
    "If S[i] == \"D\", then A[i] > A[i+1]\n",
    " \n",
    "\n",
    "**Example 1:**\n",
    "\n",
    "Input: \"IDID\"\n",
    "Output: [0,4,1,3,2]\n",
    "Example 2:\n",
    "\n",
    "Input: \"III\"\n",
    "Output: [0,1,2,3]\n",
    "Example 3:\n",
    "\n",
    "Input: \"DDI\"\n",
    "Output: [3,2,0,1]\n",
    " \n",
    "\n"
   ]
  },
  {
   "cell_type": "code",
   "execution_count": 4,
   "metadata": {},
   "outputs": [
    {
     "name": "stdout",
     "output_type": "stream",
     "text": [
      "[4, 0, 3, 1, 2]\n"
     ]
    }
   ],
   "source": [
    "class Solution(object):\n",
    "    def diStringMatch(S):\n",
    "        cur_min = 0\n",
    "        cur_max = len(S)\n",
    "        output = []\n",
    "\n",
    "        for i in range(len(S)):\n",
    "            if S[i] == 'I':\n",
    "                # next will be increasing\n",
    "                output.append(cur_min)\n",
    "                cur_min += 1\n",
    "            else:\n",
    "                # next will be decreasing\n",
    "                output.append(cur_max)\n",
    "                cur_max -= 1\n",
    "\n",
    "        # last element, when cur_min == cur_max\n",
    "        output.append(cur_max if S[-1]=='D' else cur_min) #latest element\n",
    "\n",
    "        return output\n",
    "\n",
    "    print(diStringMatch('DIDI'))"
   ]
  },
  {
   "cell_type": "markdown",
   "metadata": {},
   "source": [
    "# 29. Self Dividing Numbers\n",
    "\n",
    "https://leetcode.com/problems/self-dividing-numbers/\n",
    "    \n",
    "A self-dividing number is a number that is divisible by every digit it contains.\n",
    "\n",
    "For example, 128 is a self-dividing number because 128 % 1 == 0, 128 % 2 == 0, and 128 % 8 == 0.\n",
    "\n",
    "Also, a self-dividing number is not allowed to contain the digit zero.\n",
    "\n",
    "Given a lower and upper number bound, output a list of every possible self dividing number, including the bounds if possible.\n",
    "\n",
    "Example 1:\n",
    "Input: \n",
    "left = 1, right = 22\n",
    "Output: [1, 2, 3, 4, 5, 6, 7, 8, 9, 11, 12, 15, 22]\n",
    "Note:\n",
    "\n",
    "The boundaries of each input argument are 1 <= left <= right <= 10000."
   ]
  },
  {
   "cell_type": "code",
   "execution_count": null,
   "metadata": {},
   "outputs": [],
   "source": [
    "# Brute force solution!\n",
    "\n",
    "res = []\n",
    "        \n",
    "for number in range(left, right+1):\n",
    "    str_number = str(number)\n",
    "    count = 0\n",
    "    for i in str_number:\n",
    "        if int(i) != 0 and number%int(i)==0:\n",
    "            count += 1\n",
    "\n",
    "    if count == len(str_number):\n",
    "        res.append(number)\n",
    "\n",
    "return res\n",
    "\n",
    "# More elegant and fast solution\n",
    "\n",
    "def isSelfDividing(number):\n",
    "    for char in str(number):\n",
    "        if int(char) == 0 or number%int(char)!=0: # not self-divided number\n",
    "            return False\n",
    "    return True\n",
    "\n",
    "res = []\n",
    "\n",
    "for number in range(left, right+1):\n",
    "if isSelfDividing(number):        \n",
    "    res.append(number)\n",
    "\n",
    "return res"
   ]
  },
  {
   "cell_type": "markdown",
   "metadata": {},
   "source": [
    "## 30. Array Partition I\n",
    "\n",
    "https://leetcode.com/problems/array-partition-i/\n",
    "\n",
    "Given an array of 2n integers, your task is to group these integers into n pairs of integer, say (a1, b1), (a2, b2), ..., (an, bn) which makes sum of min(ai, bi) for all i from 1 to n as large as possible.\n",
    "\n",
    "Example 1:\n",
    "Input: [1,4,3,2]\n",
    "\n",
    "Output: 4\n",
    "Explanation: n is 2, and the maximum sum of pairs is 4 = min(1, 2) + min(3, 4).\n",
    "Note:\n",
    "n is a positive integer, which is in the range of [1, 10000].\n",
    "All the integers in the array will be in the range of [-10000, 10000].\n"
   ]
  },
  {
   "cell_type": "code",
   "execution_count": 15,
   "metadata": {},
   "outputs": [
    {
     "name": "stdout",
     "output_type": "stream",
     "text": [
      "16\n"
     ]
    }
   ],
   "source": [
    "nums = [1,2,5,4,3,7,5]\n",
    "sorted_nums = sorted(nums)\n",
    "print(sum(sorted_nums[::2]))    \n",
    "\n",
    "# Now note that 1 needs to be a paired with a larger number. What is the number we would like to sacrifice? Clearly the smallest possible.\n",
    "# This gives the insight: sort and pair adjacent numbers.\n",
    "# Sorting takes Nlg(N) and space lg(N)."
   ]
  },
  {
   "cell_type": "markdown",
   "metadata": {},
   "source": [
    "# 31 Fibonacci Number\n",
    "\n",
    "The Fibonacci numbers, commonly denoted F(n) form a sequence, called the Fibonacci sequence, such that each number is the sum of the two preceding ones, starting from 0 and 1. That is,\n",
    "\n",
    "https://leetcode.com/problems/fibonacci-number/\n",
    "\n",
    "F(0) = 0,   F(1) = 1\n",
    "F(N) = F(N - 1) + F(N - 2), for N > 1.\n",
    "Given N, calculate F(N).\n",
    "\n",
    "**Example 1:**\n",
    "\n",
    "Input: 2\n",
    "Output: 1\n",
    "Explanation: F(2) = F(1) + F(0) = 1 + 0 = 1.\n",
    "\n",
    "Example 2:\n",
    "\n",
    "Input: 3\n",
    "Output: 2\n",
    "Explanation: F(3) = F(2) + F(1) = 1 + 1 = 2.\n",
    "Example 3:\n",
    "\n",
    "Input: 4\n",
    "Output: 3\n",
    "Explanation: F(4) = F(3) + F(2) = 2 + 1 = 3.\n",
    " \n",
    "\n",
    "Note:\n",
    "\n",
    "0 ≤ N ≤ 30."
   ]
  },
  {
   "cell_type": "code",
   "execution_count": 33,
   "metadata": {},
   "outputs": [],
   "source": [
    "class Solution:\n",
    "    def fib(self, N):\n",
    "        \"\"\"\n",
    "        :type N: int\n",
    "        :rtype: int\n",
    "        \"\"\"\n",
    "        if N==0:\n",
    "            return 0\n",
    "        elif N==1:\n",
    "            return 1\n",
    "        return self.fib(N-1)+self.fib(N-2) \n"
   ]
  },
  {
   "cell_type": "code",
   "execution_count": 35,
   "metadata": {},
   "outputs": [
    {
     "data": {
      "text/plain": [
       "13"
      ]
     },
     "execution_count": 35,
     "metadata": {},
     "output_type": "execute_result"
    }
   ],
   "source": [
    "Solution().fib(7)"
   ]
  },
  {
   "cell_type": "markdown",
   "metadata": {},
   "source": [
    "# 32. Remove Outermost Parentheses\n",
    "\n",
    "https://leetcode.com/problems/remove-outermost-parentheses/\n",
    "\n",
    "A valid parentheses string is either empty (\"\"), \"(\" + A + \")\", or A + B, where A and B are valid parentheses strings, and + represents string concatenation.  For example, \"\", \"()\", \"(())()\", and \"(()(()))\" are all valid parentheses strings.\n",
    "\n",
    "A valid parentheses string S is primitive if it is nonempty, and there does not exist a way to split it into S = A+B, with A and B nonempty valid parentheses strings.\n",
    "\n",
    "Given a valid parentheses string S, consider its primitive decomposition: S = P_1 + P_2 + ... + P_k, where P_i are primitive valid parentheses strings.\n",
    "\n",
    "Return S after removing the outermost parentheses of every primitive string in the primitive decomposition of S.\n",
    "\n",
    " \n",
    "\n",
    "Example 1:\n",
    "\n",
    "Input: \"(()())(())\"\n",
    "Output: \"()()()\"\n",
    "Explanation: \n",
    "The input string is \"(()())(())\", with primitive decomposition \"(()())\" + \"(())\".\n",
    "After removing outer parentheses of each part, this is \"()()\" + \"()\" = \"()()()\".\n",
    "Example 2:\n",
    "\n",
    "Input: \"(()())(())(()(()))\"\n",
    "Output: \"()()()()(())\"\n",
    "Explanation: \n",
    "The input string is \"(()())(())(()(()))\", with primitive decomposition \"(()())\" + \"(())\" + \"(()(()))\".\n",
    "After removing outer parentheses of each part, this is \"()()\" + \"()\" + \"()(())\" = \"()()()()(())\".\n",
    "Example 3:\n",
    "\n",
    "Input: \"()()\"\n",
    "Output: \"\"\n",
    "Explanation: \n",
    "The input string is \"()()\", with primitive decomposition \"()\" + \"()\".\n",
    "After removing outer parentheses of each part, this is \"\" + \"\" = \"\"."
   ]
  },
  {
   "cell_type": "code",
   "execution_count": 4,
   "metadata": {},
   "outputs": [
    {
     "name": "stdout",
     "output_type": "stream",
     "text": [
      "()()\n"
     ]
    }
   ],
   "source": [
    "# Not so efficient, but easier to understand!\n",
    "left_p = 0 \n",
    "right_p = 0\n",
    "S = \"(()())\"\n",
    "output = \"\"\n",
    "\n",
    "current_part = \"\"\n",
    "for c in S:\n",
    "    current_part += c\n",
    "\n",
    "    if c == '(':\n",
    "        left_p += 1 \n",
    "    if c == ')': \n",
    "        right_p += 1\n",
    "\n",
    "    if left_p == right_p:\n",
    "        output += current_part[1:len(current_part)-1]\n",
    "        current_part = \"\"\n",
    "        \n",
    "print(''.join(output))     \n"
   ]
  },
  {
   "cell_type": "code",
   "execution_count": 2,
   "metadata": {},
   "outputs": [
    {
     "name": "stdout",
     "output_type": "stream",
     "text": [
      "()()\n"
     ]
    }
   ],
   "source": [
    "# Very efficient!\n",
    "S = \"(()())\"\n",
    "output = []\n",
    "count = 0\n",
    "        \n",
    "# count is zero only when outer parentheses\n",
    "for c in S:\n",
    "    if c == ')':\n",
    "        count -= 1 # decrement before append to skip the last parentheses\n",
    "    if count > 0: # \n",
    "        output.append(c)\n",
    "    if c == '(': \n",
    "        count += 1 # increment after append to skip the first parentheses\n",
    "        \n",
    "print(''.join(output))"
   ]
  },
  {
   "cell_type": "markdown",
   "metadata": {},
   "source": [
    "# 33. Backspace String Compare\n",
    "\n",
    "https://leetcode.com/problems/backspace-string-compare/\n",
    "\n",
    "Given two strings S and T, return if they are equal when both are typed into empty text editors. # means a backspace character.\n",
    "\n",
    "Example 1:\n",
    "\n",
    "Input: S = \"ab#c\", T = \"ad#c\"\n",
    "Output: true\n",
    "Explanation: Both S and T become \"ac\".\n",
    "Example 2:\n",
    "\n",
    "Input: S = \"ab##\", T = \"c#d#\"\n",
    "Output: true\n",
    "Explanation: Both S and T become \"\".\n",
    "Example 3:\n",
    "\n",
    "Input: S = \"a##c\", T = \"#a#c\"\n",
    "Output: true\n",
    "Explanation: Both S and T become \"c\".\n",
    "Example 4:\n",
    "\n",
    "Input: S = \"a#c\", T = \"b\"\n",
    "Output: false\n",
    "Explanation: S becomes \"c\" while T becomes \"b\".\n",
    "Note:\n",
    "\n",
    "1 <= S.length <= 200\n",
    "1 <= T.length <= 200\n",
    "S and T only contain lowercase letters and '#' characters.\n",
    "Follow up:\n",
    "\n",
    "Can you solve it in O(N) time and O(1) space?"
   ]
  },
  {
   "cell_type": "code",
   "execution_count": 8,
   "metadata": {},
   "outputs": [
    {
     "name": "stdout",
     "output_type": "stream",
     "text": [
      "True\n"
     ]
    }
   ],
   "source": [
    "# First solution\n",
    "\n",
    "S = \"ad#c\"\n",
    "T = \"ab#c\"\n",
    "\n",
    "new_s = \"\"\n",
    "new_t = \"\"\n",
    "\n",
    "for i in S:\n",
    "    new_s += i\n",
    "    if i == \"#\":\n",
    "        new_s = new_s[:-2]\n",
    "\n",
    "for i in T:\n",
    "    new_t += i\n",
    "    if i == \"#\":\n",
    "        new_t = new_t[:-2]\n",
    "\n",
    "print(new_s == new_t)"
   ]
  },
  {
   "cell_type": "code",
   "execution_count": 13,
   "metadata": {},
   "outputs": [
    {
     "name": "stdout",
     "output_type": "stream",
     "text": [
      "True\n"
     ]
    }
   ],
   "source": [
    "# Faster solution\n",
    "\n",
    "S = \"xywrrmp\"\n",
    "T = \"xywrrmu#p\"\n",
    "stack_s = []\n",
    "stack_t = []\n",
    "\n",
    "for i in range(len(S)):\n",
    "    stack_s.append(S[i])\n",
    "    if S[i] == \"#\":\n",
    "        stack_s.pop()\n",
    "        if stack_s: # check if t doesn't start directly with #\n",
    "            stack_s.pop()\n",
    "\n",
    "for i in range(len(T)):\n",
    "    stack_t.append(T[i])\n",
    "    if T[i] == \"#\":\n",
    "        stack_t.pop()\n",
    "        if stack_t: # check if t doesn't start directly with #\n",
    "            stack_t.pop()\n",
    "\n",
    "print(stack_s == stack_t)"
   ]
  },
  {
   "cell_type": "markdown",
   "metadata": {},
   "source": [
    "# 34. Next Greater Element I\n",
    "\n",
    "https://leetcode.com/problems/next-greater-element-i/\n",
    "\n",
    "You are given two arrays (without duplicates) nums1 and nums2 where nums1’s elements are subset of nums2. Find all the next greater numbers for nums1's elements in the corresponding places of nums2.\n",
    "\n",
    "The Next Greater Number of a number x in nums1 is the first greater number to its right in nums2. If it does not exist, output -1 for this number.\n",
    "\n",
    "Example 1:\n",
    "\n",
    "Input: nums1 = [4,1,2], nums2 = [1,3,4,2].\n",
    "\n",
    "Output: [-1,3,-1]\n",
    "\n",
    "Explanation:\n",
    "    For number 4 in the first array, you cannot find the next greater number for it in the second array, so output -1.\n",
    "    For number 1 in the first array, the next greater number for it in the second array is 3.\n",
    "    For number 2 in the first array, there is no next greater number for it in the second array, so output -1.\n",
    "    \n",
    "    \n",
    "Example 2:\n",
    "\n",
    "Input: nums1 = [2,4], nums2 = [1,2,3,4].\n",
    "Output: [3,-1]\n",
    "\n",
    "Explanation:\n",
    "    For number 2 in the first array, the next greater number for it in the second array is 3.\n",
    "    For number 4 in the first array, there is no next greater number for it in the second array, so output -1.\n",
    "Note:\n",
    "All elements in nums1 and nums2 are unique.\n",
    "The length of both nums1 and nums2 would not exceed 1000."
   ]
  },
  {
   "cell_type": "code",
   "execution_count": null,
   "metadata": {},
   "outputs": [],
   "source": [
    "nums1=[2,4]\n",
    "nums2=[1,2,3,4]\n",
    "\n",
    "dic = {}\n",
    "# create a dictionary with all greatest elements for all numbers in nums2\n",
    "for i, nums2_value in enumerate(nums2):\n",
    "    for num2_j in nums2[i+1:]:\n",
    "        if nums2_value < num2_j:\n",
    "            dic[nums2_value] = num2_j\n",
    "            break\n",
    "\n",
    "output = []\n",
    " # return only the values in dic where the keys are in nums1\n",
    "for num1 in nums1:\n",
    "    output.append(dic.get(num1, -1))\n",
    "\n",
    "return output"
   ]
  },
  {
   "cell_type": "markdown",
   "metadata": {},
   "source": [
    "## 35. Remove Linked List Elements\n",
    "\n",
    "https://leetcode.com/problems/remove-linked-list-elements/\n",
    "\n",
    "Remove all elements from a linked list of integers that have value val.\n",
    "\n",
    "Example:\n",
    "\n",
    "Input:  1->2->6->3->4->5->6, val = 6\n",
    "Output: 1->2->3->4->5"
   ]
  },
  {
   "cell_type": "code",
   "execution_count": 4,
   "metadata": {},
   "outputs": [],
   "source": [
    "# Definition for singly-linked list.\n",
    "class ListNode:\n",
    "    def __init__(self, x):\n",
    "        self.val = x\n",
    "        self.next = None\n",
    "\n",
    "class Solution:\n",
    "    def removeElements(self, head: ListNode, val: int) -> ListNode:\n",
    "        \n",
    "        # auxiliary node \n",
    "        temp = ListNode(-1)\n",
    "        temp.next = head\n",
    "        current = temp\n",
    "        \n",
    "        while current.next:\n",
    "            \n",
    "            if current.next.val == val:\n",
    "                current.next = current.next.next\n",
    "                \n",
    "            # not the same value\n",
    "            else:\n",
    "                current = current.next\n",
    "            \n",
    "        return temp.next                \n",
    "                    "
   ]
  },
  {
   "cell_type": "markdown",
   "metadata": {},
   "source": [
    "## 36. Longest Common Prefix\n",
    "\n",
    "https://leetcode.com/problems/longest-common-prefix/\n",
    "\n",
    "Write a function to find the longest common prefix string amongst an array of strings.\n",
    "\n",
    "If there is no common prefix, return an empty string \"\".\n",
    "\n",
    "Example 1:\n",
    "\n",
    "Input: [\"flower\",\"flow\",\"flight\"]\n",
    "Output: \"fl\"\n",
    "Example 2:\n",
    "\n",
    "Input: [\"dog\",\"racecar\",\"car\"]\n",
    "Output: \"\"\n",
    "Explanation: There is no common prefix among the input strings.\n",
    "Note:\n",
    "\n",
    "All given inputs are in lowercase letters a-z.\n",
    "       "
   ]
  },
  {
   "cell_type": "code",
   "execution_count": 7,
   "metadata": {},
   "outputs": [
    {
     "name": "stdout",
     "output_type": "stream",
     "text": [
      "avsadd\n",
      "avsadd\n"
     ]
    }
   ],
   "source": [
    "strs = [\"avsadd\"]\n",
    "if not strs: print(\"\")\n",
    "if len(strs) == 1: print(strs[0]) \n",
    "\n",
    "firstElement = strs[0]\n",
    "\n",
    "sub_strings = []\n",
    "for i in range(1, len(firstElement)+1):\n",
    "    sub_strings.append(firstElement[0:i])\n",
    "\n",
    "max_subsequence = \"\"\n",
    "\n",
    "for i in sub_strings:\n",
    "    found = True\n",
    "    for j in strs[1:]:\n",
    "        if i != j[0:len(i)]:\n",
    "            found = False\n",
    "    if found and len(i)>len(max_subsequence):\n",
    "        max_subsequence = i\n",
    "\n",
    "print(max_subsequence)"
   ]
  },
  {
   "cell_type": "markdown",
   "metadata": {},
   "source": [
    "## 37. Palindrome Linked List\n",
    "\n",
    "https://leetcode.com/problems/palindrome-linked-list/\n",
    "\n",
    "Given a singly linked list, determine if it is a palindrome.\n",
    "\n",
    "Example 1:\n",
    "\n",
    "Input: 1->2\n",
    "Output: false\n",
    "Example 2:\n",
    "\n",
    "Input: 1->2->2->1\n",
    "Output: true\n",
    "Follow up:\n",
    "Could you do it in O(n) time and O(1) space?"
   ]
  },
  {
   "cell_type": "code",
   "execution_count": 18,
   "metadata": {},
   "outputs": [],
   "source": [
    "# Definition for singly-linked list.\n",
    "class ListNode(object):\n",
    "    def __init__(self, x, next = None):\n",
    "        self.val = x\n",
    "        self.next = next\n",
    "\n",
    "class Solution(object):\n",
    "    def isPalindrome(self, head):\n",
    "        \"\"\"\n",
    "        :type head: ListNode\n",
    "        :rtype: bool\n",
    "        \"\"\"j\n",
    "        list_nodes = []\n",
    "\n",
    "        # traverse the Linked List\n",
    "        current = head\n",
    "        while current:\n",
    "            list_nodes.append(current.val)\n",
    "            current = current.next\n",
    "\n",
    "        # reverse the list of nodes\n",
    "        reversed_list_nodes = list_nodes[::-1]\n",
    "\n",
    "        return list_nodes == reversed_list_nodes   \n"
   ]
  },
  {
   "cell_type": "code",
   "execution_count": 17,
   "metadata": {},
   "outputs": [
    {
     "name": "stdout",
     "output_type": "stream",
     "text": [
      "False\n"
     ]
    }
   ],
   "source": [
    "node1 = ListNode(1)\n",
    "node2 = ListNode(2)\n",
    "node3 = ListNode(3)\n",
    "\n",
    "node1.next = node2\n",
    "node2.next = node3\n",
    "\n",
    "print(Solution().isPalindrome(node1))"
   ]
  },
  {
   "cell_type": "markdown",
   "metadata": {},
   "source": [
    "## 38. Linked List Cycle\n",
    "https://leetcode.com/problems/linked-list-cycle/\n",
    "\n",
    "Given a linked list, determine if it has a cycle in it.\n",
    "\n",
    "To represent a cycle in the given linked list, we use an integer pos which represents the position (0-indexed) in the linked list where tail connects to. If pos is -1, then there is no cycle in the linked list."
   ]
  },
  {
   "cell_type": "code",
   "execution_count": 20,
   "metadata": {},
   "outputs": [],
   "source": [
    "# Definition for singly-linked list.\n",
    "class ListNode(object):\n",
    "    def __init__(self, x, next = None):\n",
    "        self.val = x\n",
    "        self.next = next\n",
    "\n",
    "class Solution(object):\n",
    "\n",
    "    def hasCycle(self, head):\n",
    "        \"\"\"\n",
    "        :type head: ListNode\n",
    "        :rtype: bool\n",
    "        \"\"\"\n",
    "        fast = slow = head\n",
    "\n",
    "        while fast and fast.next:\n",
    "            slow = slow.next\n",
    "            fast = fast.next.next\n",
    "            if slow is fast:\n",
    "                return True\n",
    "        return False"
   ]
  },
  {
   "cell_type": "code",
   "execution_count": 21,
   "metadata": {},
   "outputs": [
    {
     "name": "stdout",
     "output_type": "stream",
     "text": [
      "True\n"
     ]
    }
   ],
   "source": [
    "node1 = ListNode(1)\n",
    "node2 = ListNode(2)\n",
    "node3 = ListNode(3)\n",
    "\n",
    "node1.next = node2\n",
    "node2.next = node1\n",
    "\n",
    "print(Solution().hasCycle(node1))"
   ]
  },
  {
   "cell_type": "markdown",
   "metadata": {},
   "source": [
    "## 39. Convert Sorted Array to Binary Search Tree\n",
    "\n",
    "https://leetcode.com/problems/convert-sorted-array-to-binary-search-tree/\n",
    "\n",
    "Given an array where elements are sorted in ascending order, convert it to a height balanced BST.\n",
    "\n",
    "For this problem, a height-balanced binary tree is defined as a binary tree in which the depth of the two subtrees of every node never differ by more than 1.\n",
    "\n",
    "Example:\n",
    "\n",
    "Given the sorted array: [-10,-3,0,5,9],\n",
    "\n",
    "One possible answer is: [0,-3,9,-10,null,5], which represents the following height balanced BST:\n",
    "\n",
    "      0\n",
    "     / \\\n",
    "   -3   9\n",
    "   /   /\n",
    " -10  5"
   ]
  },
  {
   "cell_type": "code",
   "execution_count": 31,
   "metadata": {},
   "outputs": [
    {
     "name": "stdout",
     "output_type": "stream",
     "text": [
      "-2\n",
      "-4\n",
      "5\n",
      "7\n",
      "8\n",
      "9\n"
     ]
    }
   ],
   "source": [
    "# Definition for a binary tree node.\n",
    "class TreeNode:\n",
    "    def __init__(self, x):\n",
    "        self.val = x\n",
    "        self.left = None\n",
    "        self.right = None\n",
    "\n",
    "def sortedArrayToBST(nums):\n",
    "\n",
    "    if not nums: return None\n",
    "\n",
    "    middle = len(nums)//2\n",
    "    node = TreeNode(nums[middle])\n",
    "    node.left = sortedArrayToBST(nums[:middle])\n",
    "    node.right = sortedArrayToBST(nums[middle+1:])\n",
    "\n",
    "    return node\n",
    "\n",
    "# A function to do inorder tree traversal\n",
    "def printInOrder(node):\n",
    "    if node:\n",
    "        # First visit the left node \n",
    "        printInOrder(node.left)\n",
    "\n",
    "        # Print the data of node\n",
    "        print(node.val)\n",
    "\n",
    "        # Then visit the right node\n",
    "        printInOrder(node.right)\n",
    "    \n",
    "bst = sortedArrayToBST([-2, -4, 5,7,8,9])\n",
    "printInOrder(bst)"
   ]
  },
  {
   "cell_type": "markdown",
   "metadata": {},
   "source": [
    "## 41. Convert Sorted List to Binary Search Tree\n",
    "https://leetcode.com/problems/convert-sorted-list-to-binary-search-tree/"
   ]
  },
  {
   "cell_type": "markdown",
   "metadata": {},
   "source": [
    "# 42. Fibonacci Number\n",
    "\n",
    "https://leetcode.com/problems/fibonacci-number/\n",
    "    \n",
    "The Fibonacci numbers, commonly denoted F(n) form a sequence, called the Fibonacci sequence, such that each number is the sum of the two preceding ones, starting from 0 and 1. That is,\n",
    "\n",
    "F(0) = 0,   F(1) = 1\n",
    "F(N) = F(N - 1) + F(N - 2), for N > 1.\n",
    "Given N, calculate F(N).\n",
    "\n",
    " \n",
    "\n",
    "Example 1:\n",
    "\n",
    "Input: 2\n",
    "Output: 1\n",
    "Explanation: F(2) = F(1) + F(0) = 1 + 0 = 1.\n",
    "Example 2:\n",
    "\n",
    "Input: 3\n",
    "Output: 2\n",
    "Explanation: F(3) = F(2) + F(1) = 1 + 1 = 2.\n",
    "Example 3:\n",
    "\n",
    "Input: 4\n",
    "Output: 3\n",
    "Explanation: F(4) = F(3) + F(2) = 2 + 1 = 3.\n",
    " \n",
    "\n",
    "Note:\n",
    "\n",
    "0 ≤ N ≤ 30.\n",
    "\n"
   ]
  },
  {
   "cell_type": "code",
   "execution_count": 1,
   "metadata": {},
   "outputs": [
    {
     "name": "stdout",
     "output_type": "stream",
     "text": [
      "Fibo of 11: 89\n",
      "Fibo of 11: 89\n",
      "Fibo of 11: 89\n"
     ]
    }
   ],
   "source": [
    "# Function to calculate the Nth fibonacci number, using a list (extra memory).   leetcode log: faster than 41% runtime    memory usage: less than 11%\n",
    "def fibo1(n):\n",
    "\n",
    "\tif n == 0: return 0\n",
    "\tif n <= 2: return 1\n",
    "\n",
    "\tfibo = []\n",
    "\tfor i in range(1,n+1):\n",
    "\t\tif i<=2:\n",
    "\t\t\tfibo.append(1)\n",
    "\t\telse:\n",
    "\t\t\tfibo.append(fibo[-1]+fibo[-2])\n",
    "\n",
    "\treturn fibo[-1]\n",
    "\n",
    "# Function to calculate the Nth fibonacci number, with no extra memory, using 3 pointers    leetcode log:  faster than 96% runtime    memory usage: less than 50%\n",
    "# fibo = [0,1,1,2,3,5,8,...]\n",
    "def fibo2(n):\n",
    "\n",
    "\tif n == 0: return 0\n",
    "\tif n <= 2: return 1\n",
    "\n",
    "\tpreviousPrevious = 0\n",
    "\tprevious = 0\n",
    "\tcurrent = 1\n",
    "\tfor i in range(2,n+1):\n",
    "\t\tpreviousPrevious = previous # move one ahead\n",
    "\t\tprevious = current # move one ahead\n",
    "\t\tcurrent = previousPrevious + previous # sum up the last 2\n",
    "\n",
    "\treturn current\n",
    "\n",
    "# Function to calculate the Nth fibonacci number, recursive solution    leetcode log:  faster than 16% runtime    memory usage: less than 6% : the worst performance\n",
    "# fibo = [0,1,1,2,3,5,8,...]\n",
    "def fibo3(n):\n",
    "\n",
    "\tif n == 0: return 0\n",
    "\tif n == 1: return 1\n",
    "\treturn fibo3(n-1)+fibo3(n-2)\n",
    "\n",
    "\n",
    "print(\"Fibo of 11:\", fibo1(11))\n",
    "print(\"Fibo of 11:\", fibo2(11))\n",
    "print(\"Fibo of 11:\", fibo3(11))"
   ]
  },
  {
   "cell_type": "markdown",
   "metadata": {},
   "source": [
    "## 43. Climbing Stairs\n",
    "\n",
    "https://leetcode.com/problems/climbing-stairs/\n",
    "\n",
    "You are climbing a stair case. It takes n steps to reach to the top.\n",
    "\n",
    "Each time you can either climb 1 or 2 steps. In how many distinct ways can you climb to the top?\n",
    "\n",
    "Note: Given n will be a positive integer.\n",
    "\n",
    "Example 1:\n",
    "\n",
    "Input: 2\n",
    "Output: 2\n",
    "Explanation: There are two ways to climb to the top.\n",
    "1. 1 step + 1 step\n",
    "2. 2 steps\n",
    "Example 2:\n",
    "\n",
    "Input: 3\n",
    "Output: 3\n",
    "Explanation: There are three ways to climb to the top.\n",
    "1. 1 step + 1 step + 1 step\n",
    "2. 1 step + 2 steps\n",
    "3. 2 steps + 1 step\n"
   ]
  },
  {
   "cell_type": "code",
   "execution_count": 13,
   "metadata": {},
   "outputs": [
    {
     "name": "stdout",
     "output_type": "stream",
     "text": [
      "8\n",
      "1\n",
      "2\n",
      "3\n",
      "5\n",
      "8\n",
      "13\n",
      "21\n",
      "34\n",
      "55\n"
     ]
    }
   ],
   "source": [
    "# Basically it's a fibonacci problem!\n",
    "\n",
    "def climbStairs(n):\n",
    "    if n == 1: return 1\n",
    "    if n == 2: return 2\n",
    "\n",
    "    previousPrevious = 0\n",
    "    previous = 1\n",
    "    current = 2\n",
    "\n",
    "    for i in range(3, n+1):\n",
    "        previousPrevious = previous\n",
    "        previous = current\n",
    "        current = previousPrevious+previous\n",
    "\n",
    "    return current\n",
    "\n",
    "print(climbStairs(5))"
   ]
  },
  {
   "cell_type": "markdown",
   "metadata": {},
   "source": [
    "<strong>Next challenge</strong>:\n",
    "https://leetcode.com/problems/min-cost-climbing-stairs/\n",
    "    \n",
    "other two: https://leetcode.com/problems/split-array-into-fibonacci-sequence/\n",
    "https://leetcode.com/problems/length-of-longest-fibonacci-subsequence/"
   ]
  },
  {
   "cell_type": "markdown",
   "metadata": {},
   "source": []
  },
  {
   "cell_type": "markdown",
   "metadata": {},
   "source": [
    "## 44. License Key Formatting\n",
    "\n",
    "https://leetcode.com/problems/license-key-formatting/\n",
    "    \n",
    "You are given a license key represented as a string S which consists only alphanumeric character and dashes. The string is separated into N+1 groups by N dashes.\n",
    "\n",
    "Given a number K, we would want to reformat the strings such that each group contains exactly K characters, except for the first group which could be shorter than K, but still must contain at least one character. Furthermore, there must be a dash inserted between two groups and all lowercase letters should be converted to uppercase.\n",
    "\n",
    "Given a non-empty string S and a number K, format the string according to the rules described above.\n",
    "\n",
    "Example 1:\n",
    "Input: S = \"5F3Z-2e-9-w\", K = 4\n",
    "\n",
    "Output: \"5F3Z-2E9W\"\n",
    "\n",
    "Explanation: The string S has been split into two parts, each part has 4 characters.\n",
    "Note that the two extra dashes are not needed and can be removed.\n",
    "Example 2:\n",
    "Input: S = \"2-5g-3-J\", K = 2\n",
    "\n",
    "Output: \"2-5G-3J\"\n",
    "\n",
    "Explanation: The string S has been split into three parts, each part has 2 characters except the first part as it could be shorter as mentioned above.\n",
    "Note:\n",
    "The length of string S will not exceed 12,000, and K is a positive integer.\n",
    "String S consists only of alphanumerical characters (a-z and/or A-Z and/or 0-9) and dashes(-).\n",
    "String S is non-empty.\n"
   ]
  },
  {
   "cell_type": "code",
   "execution_count": 56,
   "metadata": {},
   "outputs": [
    {
     "name": "stdout",
     "output_type": "stream",
     "text": [
      "1\n",
      "13\n",
      "0 4\n",
      "DCBA\n",
      "4 8\n",
      "9876\n",
      "8 12\n",
      "5432\n",
      "12 16\n",
      "1\n",
      "['DCBA', '9876', '5432', '1']\n",
      "1-2345-6789-ABCD\n"
     ]
    }
   ],
   "source": [
    "S = '123456789abcd'\n",
    "K = 4\n",
    "\n",
    "def licenseKeyFormatting(S, K):\n",
    "    \n",
    "    rev = S.replace('-','').upper()[::-1]\n",
    "    \n",
    "    output = []\n",
    "    for i in range(0,len(rev),K):\n",
    "        output.append(rev[i:i+K])\n",
    "    \n",
    "    return '-'.join(output)[::-1]\n",
    "\n",
    "print(licenseKeyFormatting(S, K))"
   ]
  },
  {
   "cell_type": "markdown",
   "metadata": {},
   "source": [
    "##  45. Missing Number\n",
    "\n",
    "https://leetcode.com/problems/missing-number/\n",
    "\n",
    "Given an array containing n distinct numbers taken from 0, 1, 2, ..., n, find the one that is missing from the array.\n",
    "\n",
    "Example 1:\n",
    "\n",
    "Input: [3,0,1]\n",
    "Output: 2\n",
    "Example 2:\n",
    "\n",
    "Input: [9,6,4,2,3,5,7,0,1]\n",
    "Output: 8\n",
    "Note:\n",
    "Your algorithm should run in linear runtime complexity. Could you implement it using only constant extra space complexity?"
   ]
  },
  {
   "cell_type": "code",
   "execution_count": 60,
   "metadata": {},
   "outputs": [
    {
     "name": "stdout",
     "output_type": "stream",
     "text": [
      "1\n"
     ]
    }
   ],
   "source": [
    "def missingNumber(nums):\n",
    "    dict = {}\n",
    "    for i in nums:\n",
    "        dict[i] = dict.get(i, 0)+1\n",
    "\n",
    "    for i in range(0, len(nums)+1): # 0 to 9\n",
    "        if i not in dict:\n",
    "            return i\n",
    "        \n",
    "print(missingNumber([0,3,2]))"
   ]
  },
  {
   "cell_type": "markdown",
   "metadata": {},
   "source": [
    "## 46. Maximum Depth of N-ary Tree\n",
    "\n",
    "https://leetcode.com/problems/maximum-depth-of-n-ary-tree/\n",
    "\n",
    "Given a n-ary tree, find its maximum depth.\n",
    "\n",
    "The maximum depth is the number of nodes along the longest path from the root node down to the farthest leaf node."
   ]
  },
  {
   "cell_type": "code",
   "execution_count": 12,
   "metadata": {},
   "outputs": [
    {
     "name": "stdout",
     "output_type": "stream",
     "text": [
      "4\n"
     ]
    }
   ],
   "source": [
    "# Definition for a Node.\n",
    "class Node:\n",
    "    def __init__(self, val, children=None):\n",
    "        self.val = val\n",
    "        self.children = children\n",
    "\n",
    "def maxDepth(root):\n",
    "\n",
    "    if not root:\n",
    "        return 0\n",
    "    elif not root.children:\n",
    "        return 1\n",
    "    else:\n",
    "        height = []\n",
    "        for c in root.children:\n",
    "            height.append(maxDepth(c))\n",
    "        return max(height)+1\n",
    "        \n",
    "        \n",
    "#        1\n",
    "#     2     3\n",
    "#   4\n",
    "# 5\n",
    "node1 = Node(1)\n",
    "node2 = Node(2)\n",
    "node3 = Node(3)\n",
    "node4 = Node(4)\n",
    "node5 = Node(5)\n",
    "node1.children = [node2, node3]\n",
    "node2.children = [node4]\n",
    "node4.children = [node5]\n",
    "\n",
    "print(maxDepth(node1))"
   ]
  },
  {
   "cell_type": "markdown",
   "metadata": {},
   "source": [
    "## 47. Maximum depth of a binary tree\n",
    "\n",
    "https://leetcode.com/problems/maximum-depth-of-binary-tree/\n",
    "\n",
    "Given a binary tree, find its maximum depth.\n",
    "\n",
    "The maximum depth is the number of nodes along the longest path from the root node down to the farthest leaf node.\n",
    "\n",
    "Note: A leaf is a node with no children.\n"
   ]
  },
  {
   "cell_type": "code",
   "execution_count": 24,
   "metadata": {},
   "outputs": [
    {
     "name": "stdout",
     "output_type": "stream",
     "text": [
      "3\n",
      "3\n"
     ]
    }
   ],
   "source": [
    " #Definition for a binary tree node.\n",
    "class TreeNode:\n",
    "    def __init__(self, x):\n",
    "        self.val = x\n",
    "        self.left = None\n",
    "        self.right = None\n",
    "\n",
    "# more readable code        \n",
    "def maxDepth(root):\n",
    "        \n",
    "    if not root:\n",
    "        return 0\n",
    "\n",
    "    if (not root.left) and (not root.right):\n",
    "        return 1\n",
    "\n",
    "    if root.left and root.right:\n",
    "        return max(maxDepth(root.left)+1, maxDepth(root.right)+1)\n",
    "    elif root.left and not root.right:\n",
    "        return (maxDepth(root.left)+1)\n",
    "    else:\n",
    "        return (maxDepth(root.right)+1)\n",
    "    \n",
    "# More elegant way\n",
    "def maxDepth1(root):\n",
    "        \n",
    "    if not root:\n",
    "        return 0\n",
    "\n",
    "    return max(maxDepth(root.left)+1, maxDepth(root.right)+1)\n",
    "    \n",
    "#        1\n",
    "#     2     3\n",
    "#   4   5\n",
    "\n",
    "node1 = TreeNode(1)\n",
    "node2 = TreeNode(2)\n",
    "node3 = TreeNode(3)\n",
    "node4 = TreeNode(4)\n",
    "node5 = TreeNode(5)\n",
    "node1.left = node2\n",
    "node1.right = node3\n",
    "node2.left = node4\n",
    "node2.right = node5\n",
    "\n",
    "print(maxDepth(node1))\n",
    "print(maxDepth1(node1))\n",
    "\n"
   ]
  },
  {
   "cell_type": "markdown",
   "metadata": {},
   "source": [
    "## 48. Balanced Binary Tree\n",
    "\n",
    "https://leetcode.com/problems/balanced-binary-tree/\n",
    "    \n",
    "    \n",
    "Given a binary tree, determine if it is height-balanced.\n",
    "\n",
    "For this problem, a height-balanced binary tree is defined as:\n",
    "\n",
    "a binary tree in which the depth of the two subtrees of every node never differ by more than 1.\n"
   ]
  },
  {
   "cell_type": "code",
   "execution_count": 30,
   "metadata": {},
   "outputs": [
    {
     "name": "stdout",
     "output_type": "stream",
     "text": [
      "True\n",
      "False\n"
     ]
    }
   ],
   "source": [
    "# Definition for a binary tree node.\n",
    "class TreeNode:\n",
    "    def __init__(self, x):\n",
    "        self.val = x\n",
    "        self.left = None\n",
    "        self.right = None\n",
    "\n",
    "# 1- the right subtree is balanced\n",
    "\n",
    "# 2- the left subtree is balanced\n",
    "\n",
    "# 3- the difference between the height of the left subtree and the right subtree is at most 1\n",
    "\n",
    "def isBalanced(root: TreeNode) -> bool:\n",
    "\n",
    "    # an empty tree is balanced\n",
    "    if root is None:\n",
    "        return True\n",
    "\n",
    "    return isBalanced(root.left) and isBalanced(root.right) and (abs(get_height(root.left) - get_height(root.right)) <=1)\n",
    "\n",
    "def get_height(root):\n",
    "    if not root:\n",
    "        return 0\n",
    "\n",
    "    return 1 + max(get_height(root.left), get_height(root.right))\n",
    "\n",
    "#        1\n",
    "#     2     3\n",
    "#   4   5\n",
    "\n",
    "node1 = TreeNode(1)\n",
    "node2 = TreeNode(2)\n",
    "node3 = TreeNode(3)\n",
    "node4 = TreeNode(4)\n",
    "node5 = TreeNode(5)\n",
    "node1.left = node2\n",
    "node1.right = node3\n",
    "node2.left = node4\n",
    "node2.right = node5\n",
    "\n",
    "print(isBalanced(node1))\n",
    "\n",
    "#        1\n",
    "#     2     3\n",
    "#   4   5\n",
    "# 6\n",
    "\n",
    "node1 = TreeNode(1)\n",
    "node2 = TreeNode(2)\n",
    "node3 = TreeNode(3)\n",
    "node4 = TreeNode(4)\n",
    "node5 = TreeNode(5)\n",
    "node6 = TreeNode(6)\n",
    "node1.left = node2\n",
    "node1.right = node3\n",
    "node2.left = node4\n",
    "node2.right = node5\n",
    "node4.left = node6\n",
    "\n",
    "print(isBalanced(node1))\n"
   ]
  },
  {
   "cell_type": "markdown",
   "metadata": {},
   "source": [
    "# 49. Maximum SubArray Problem\n",
    "\n",
    "https://leetcode.com/problems/maximum-subarray/\n",
    "    \n",
    "Given an integer array nums, find the contiguous subarray (containing at least one number) which has the largest sum and return its sum.\n",
    "\n",
    "Example:\n",
    "\n",
    "Input: [-2,1,-3,4,-1,2,1,-5,4],\n",
    "Output: 6\n",
    "Explanation: [4,-1,2,1] has the largest sum = 6."
   ]
  },
  {
   "cell_type": "code",
   "execution_count": 55,
   "metadata": {},
   "outputs": [
    {
     "name": "stdout",
     "output_type": "stream",
     "text": [
      "6\n"
     ]
    }
   ],
   "source": [
    "# Brute Force solution: (Quadratic solution)\n",
    "\n",
    "def maxSubArray(nums):\n",
    "        \n",
    "    max_sum = min(nums)\n",
    "    for i in range(0, len(nums)):\n",
    "        sum = 0\n",
    "        for j in range(i, len(nums)):\n",
    "            sum += nums[j] \n",
    "            if sum > max_sum:\n",
    "                max_sum = sum\n",
    "\n",
    "    return max_sum\n",
    "\n",
    "nums = [-2,1,-3,4,-1,2,1,-5,4]\n",
    "print(maxSubArray(nums))"
   ]
  },
  {
   "cell_type": "markdown",
   "metadata": {},
   "source": [
    "## 50. Longest Continuous Increasing Subsequence\n",
    "\n",
    "https://leetcode.com/problems/longest-continuous-increasing-subsequence/\n",
    "\n",
    "Given an unsorted array of integers, find the length of longest continuous increasing subsequence (subarray).\n",
    "\n",
    "Example 1:\n",
    "Input: [1,3,5,4,7]\n",
    "Output: 3\n",
    "Explanation: The longest continuous increasing subsequence is [1,3,5], its length is 3. \n",
    "Even though [1,3,5,7] is also an increasing subsequence, it's not a continuous one where 5 and 7 are separated by 4. "
   ]
  },
  {
   "cell_type": "code",
   "execution_count": 75,
   "metadata": {},
   "outputs": [
    {
     "name": "stdout",
     "output_type": "stream",
     "text": [
      "4\n",
      "4\n"
     ]
    }
   ],
   "source": [
    "def findLengthOfLCIS(nums):\n",
    "        \n",
    "    if not nums:\n",
    "        return 0\n",
    "\n",
    "    if len(nums)==1:\n",
    "        return 1\n",
    "\n",
    "    max_sequence = []\n",
    "    sequence = [nums[0]]\n",
    "\n",
    "    for i in range(1, len(nums)):\n",
    "        if nums[i] > sequence[-1]:\n",
    "            sequence.append(nums[i])\n",
    "        else:\n",
    "            sequence = [nums[i]]\n",
    "\n",
    "        if len(sequence) > len(max_sequence):\n",
    "            max_sequence = sequence\n",
    "\n",
    "    return len(max_sequence)\n",
    "\n",
    "# Solution without extra memory\n",
    "def findLengthOfLCIS1(nums):\n",
    "    \n",
    "    max_res = 0\n",
    "    count = 0\n",
    "    for i in range(len(nums)):\n",
    "        if i == 0 or nums[i] > nums[i - 1]:\n",
    "            count += 1\n",
    "            max_res = max(max_res, count)\n",
    "        else:\n",
    "            count = 1\n",
    "    return max_res\n",
    "\n",
    "nums = [1,3,5,4,7,8,9]\n",
    "\n",
    "print(findLengthOfLCIS(nums))\n",
    "print(findLengthOfLCIS1(nums))"
   ]
  },
  {
   "cell_type": "markdown",
   "metadata": {},
   "source": [
    "# Medium problems!! \n"
   ]
  },
  {
   "cell_type": "markdown",
   "metadata": {},
   "source": [
    "## 1. Find the Duplicate Number\n",
    "\n",
    "Given an array nums containing n + 1 integers where each integer is between 1 and n (inclusive), prove that at least one duplicate number must exist. Assume that there is only one duplicate number, find the duplicate one.\n",
    "\n",
    "Example 1:\n",
    "\n",
    "Input: [1,3,4,2,2]\n",
    "Output: 2\n",
    "\n",
    "Example 2:\n",
    "\n",
    "Input: [3,1,3,4,2]\n",
    "Output: 3\n",
    "\n",
    "Note:\n",
    "\n",
    "You must not modify the array (assume the array is read only).\n",
    "You must use only constant, O(1) extra space.\n",
    "Your runtime complexity should be less than O(n2).\n",
    "There is only one duplicate number in the array, but it could be repeated more than once.\n"
   ]
  },
  {
   "cell_type": "code",
   "execution_count": null,
   "metadata": {},
   "outputs": [],
   "source": [
    "# Solution nlogn\n",
    "nums =[1,3,4,2,2]\n",
    "nums = sorted(nums)\n",
    "for i in range(len(nums)):\n",
    "    if nums[i] == nums[i+1]:\n",
    "        print(nums[i])\n",
    "        \n",
    "nums.sort()\n",
    "for i in range(len(nums)):\n",
    "    if nums[i] == nums[i+1]:\n",
    "        return nums[i]\n",
    "return None # \n",
    "\n",
    "'''The problem explicitly says\n",
    "\n",
    "NOT to modify the given array\n",
    "Use O(1) space\n",
    "I think many solution here violates that rule.\n",
    "(I guess that is because the judge cannot examine the space complexity)\n",
    "\n",
    "Here is a O(n) time complexity solution with O(1) space\n",
    "\n",
    "Advancing (n+1) times starting from the (n+1)-th position guarentees that node is inside the cycle\n",
    "From that position, find cycle length\n",
    "Using two pointers, find the entrance node to the cycle which has in-degree of greater than equal to two. (Which means that it is a duplicate)\n",
    "n = len(nums) - 1\n",
    "   '''\n",
    "\n",
    "# Get into the cycle.\n",
    "pos = len(nums) # n+1. pos is 1-indexed        \n",
    "for _ in range(n+1):\n",
    "    pos = nums[pos-1]\n",
    "\n",
    "# Find cycle length \n",
    "cyc_len = 1\n",
    "checkpoint = pos\n",
    "while nums[pos-1] != checkpoint:\n",
    "    pos = nums[pos-1]\n",
    "    cyc_len += 1\n",
    "\n",
    "# Advance pointers to find first entrance to the cycle\n",
    "slow = fast = len(nums)\n",
    "for _ in range(cyc_len):\n",
    "    fast = nums[fast-1]\n",
    "\n",
    "while slow != fast:\n",
    "    slow = nums[slow-1]\n",
    "    fast = nums[fast-1]\n",
    "\n",
    "return slow"
   ]
  },
  {
   "cell_type": "markdown",
   "metadata": {},
   "source": [
    "## 2. Reverse Words in a String (id 151)\n",
    "\n",
    "Given an input string, reverse the string word by word.\n",
    "\n",
    "**Example 1:**\n",
    "\n",
    "Input: \"the sky is blue\"\n",
    "Output: \"blue is sky the\"\n",
    "\n",
    "**Example 2:**\n",
    "\n",
    "Input: \"  hello world!  \"\n",
    "Output: \"world! hello\"\n",
    "\n",
    "Explanation: Your reversed string should not contain leading or trailing spaces."
   ]
  },
  {
   "cell_type": "markdown",
   "metadata": {},
   "source": [
    "## 3. Encode and Decode TinyURL\n",
    "\n",
    "https://leetcode.com/problems/encode-and-decode-tinyurl/\n",
    "\n",
    "TinyURL is a URL shortening service where you enter a URL such as https://leetcode.com/problems/design-tinyurl and it returns a short URL such as http://tinyurl.com/4e9iAk.\n",
    "\n",
    "Design the encode and decode methods for the TinyURL service. There is no restriction on how your encode/decode algorithm should work. You just need to ensure that a URL can be encoded to a tiny URL and the tiny URL can be decoded to the original URL.\n",
    "\n"
   ]
  },
  {
   "cell_type": "code",
   "execution_count": 10,
   "metadata": {},
   "outputs": [
    {
     "name": "stdout",
     "output_type": "stream",
     "text": [
      "SrME89\n"
     ]
    },
    {
     "data": {
      "text/plain": [
       "'http://liviaruback'"
      ]
     },
     "execution_count": 10,
     "metadata": {},
     "output_type": "execute_result"
    }
   ],
   "source": [
    "import string\n",
    "import random\n",
    "\n",
    "class Codec:\n",
    "    \n",
    "    def __init__(self):\n",
    "        self.dic_url2code = {}\n",
    "\n",
    "    def encode(self, longUrl):\n",
    "        \"\"\"Encodes a URL to a shortened URL.\n",
    "        \n",
    "        :type longUrl: str\n",
    "        :rtype: str\n",
    "        \"\"\"\n",
    "        set_strings = string.ascii_letters + string.digits\n",
    "        code = ''.join([random.choice(set_strings) for _ in range(6)])\n",
    "        \n",
    "        if code not in self.dic_url2code:\n",
    "            self.dic_url2code[code] = longUrl\n",
    "            self.dic_url2code[longUrl] = code\n",
    "        print(code)\n",
    "        \n",
    "        return 'http://tinyurl.com/'+self.dic_url2code[longUrl]\n",
    "        \n",
    "\n",
    "    def decode(self, shortUrl):\n",
    "        \"\"\"Decodes a shortened URL to its original URL.\n",
    "        \n",
    "        :type shortUrl: str\n",
    "        :rtype: str\n",
    "        \"\"\"\n",
    "        return self.dic_url2code[shortUrl[-6:]]\n",
    "    \n",
    "codec = Codec()\n",
    "codec.decode(codec.encode(\"http://liviaruback\"))"
   ]
  },
  {
   "cell_type": "markdown",
   "metadata": {},
   "source": [
    "# 4. Remove Nth Node From End of List\n",
    "\n",
    "https://leetcode.com/problems/remove-nth-node-from-end-of-list/\n",
    "\n",
    "Given a linked list, remove the n-th node from the end of list and return its head.\n",
    "\n",
    "Example:\n",
    "\n",
    "Given linked list: 1->2->3->4->5, and n = 2.\n",
    "\n",
    "After removing the second node from the end, the linked list becomes 1->2->3->5.\n",
    "Note:\n",
    "\n",
    "Given n will always be valid."
   ]
  },
  {
   "cell_type": "code",
   "execution_count": null,
   "metadata": {},
   "outputs": [],
   "source": [
    "def removeNthFromEnd(self, head: ListNode, n: int) -> ListNode:\n",
    "        \n",
    "    # Counting the total number of nodes\n",
    "    total_nodes = 0\n",
    "    current = head if head else None\n",
    "    while current:\n",
    "        total_nodes += 1\n",
    "        current = current.next\n",
    "    current = head\n",
    "    count = 0\n",
    "\n",
    "    #Traversing the Linked List to remove the Nth node from the end \n",
    "    previous = None\n",
    "    while current:\n",
    "        count += 1\n",
    "        diff = total_nodes-count+1\n",
    "        if n == diff:\n",
    "            # When is not the first element to be removed\n",
    "            if previous:\n",
    "                previous.next = current.next\n",
    "                return head\n",
    "            # Removing the first node of the Linked List\n",
    "            else:\n",
    "                return current.next\n",
    "\n",
    "        previous = current\n",
    "        current = current.next\n",
    "\n",
    "    return None"
   ]
  },
  {
   "cell_type": "markdown",
   "metadata": {},
   "source": [
    "# Draft"
   ]
  },
  {
   "cell_type": "code",
   "execution_count": null,
   "metadata": {},
   "outputs": [],
   "source": []
  },
  {
   "cell_type": "code",
   "execution_count": null,
   "metadata": {},
   "outputs": [],
   "source": []
  },
  {
   "cell_type": "code",
   "execution_count": null,
   "metadata": {},
   "outputs": [],
   "source": []
  }
 ],
 "metadata": {
  "kernelspec": {
   "display_name": "Python 3",
   "language": "python",
   "name": "python3"
  },
  "language_info": {
   "codemirror_mode": {
    "name": "ipython",
    "version": 3
   },
   "file_extension": ".py",
   "mimetype": "text/x-python",
   "name": "python",
   "nbconvert_exporter": "python",
   "pygments_lexer": "ipython3",
   "version": "3.7.3"
  }
 },
 "nbformat": 4,
 "nbformat_minor": 2
}
